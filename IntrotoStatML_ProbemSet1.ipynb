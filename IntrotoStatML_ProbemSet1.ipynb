{
 "cells": [
  {
   "cell_type": "markdown",
   "id": "e3774a10",
   "metadata": {},
   "source": [
    "## Question 1\n",
    "Write a program using Python that does the following:\n",
    "- Takes two matrices of any size as the input\n",
    "- Returns their dot product as the output\n",
    "\n",
    "Note: You cannot use pre-packaged algorithms for matrix operations for this question.\n",
    "You can use numpy or pandas to store your data (not for calculations).\n",
    "Please do the following:\n",
    "\n",
    "a. Please test the following matrix multiplications using your hand-written code\n",
    "and report the result:\n",
    "\n",
    "$ \\begin{bmatrix} -4 & -3 & -2 \\\\ 6 & 0 & -1 \\\\ 2 & 1 & 3 \\end{bmatrix}\\begin{bmatrix} 5 & 4 \\\\ 6 & 7 \\\\ -4 & -3\\end{bmatrix} $\n",
    "\n",
    "$ \\begin{bmatrix} 1 & 0 \\\\  0 & 1  \\end{bmatrix}\\begin{bmatrix} 1 & 2 & 3 & 4 \\\\ 5 & 6 & 7 & 8\\end{bmatrix} $\n",
    "\n",
    "b. Compare the result to the packaged dot product numpy.dot. Are they same?\n",
    "\n",
    "c. Please add your code to your .pdf file and also save it as an .ipynb file"
   ]
  },
  {
   "cell_type": "markdown",
   "id": "d1838a9a",
   "metadata": {},
   "source": [
    "\n"
   ]
  },
  {
   "cell_type": "code",
   "execution_count": 15,
   "id": "cd1dee78",
   "metadata": {},
   "outputs": [],
   "source": [
    "import numpy as np\n",
    "\n",
    "def create_matrix():\n",
    "    num_rows_A = int(input(\"Enter number of rows for matrix A: \"))\n",
    "    num_cols_A = int(input(\"Enter numer of columns for matrix A: \"))\n",
    "\n",
    "    matrix_A = []\n",
    "\n",
    "    for i in range(0, num_rows_A):\n",
    "        matrix_A_row = []\n",
    "        for j in range(0, num_cols_A):\n",
    "            ele = int(input(\"Enter value: \"))\n",
    "            matrix_A_row.append(ele)\n",
    "        matrix_A.append(matrix_A_row)\n",
    "\n",
    "    print(\"MATRIX A\")\n",
    "    print(np.array(np.mat(matrix_A)))\n",
    "\n",
    "    num_rows_B = int(input(\"Enter number of rows for matrix B: \"))\n",
    "    num_cols_B = int(input(\"Enter numer of columns for matrix B: \" ))\n",
    "\n",
    "    matrix_B = []\n",
    "\n",
    "    for i in range(0, num_rows_B):\n",
    "        matrix_B_row = []\n",
    "        for j in range(0, num_cols_B):\n",
    "            ele = int(input(\"Enter value: \"))\n",
    "            matrix_B_row.append(ele)\n",
    "        matrix_B.append(matrix_B_row)\n",
    "\n",
    "    print(\"MATRIX B\")\n",
    "    print(np.array(np.mat(matrix_B)))\n",
    "    \n",
    "    return matrix_A, matrix_B, num_rows_B, num_cols_A, num_rows_A, num_cols_B\n",
    "\n"
   ]
  },
  {
   "cell_type": "code",
   "execution_count": 16,
   "id": "185e402e",
   "metadata": {},
   "outputs": [],
   "source": [
    "def dot_product(matrix_A, matrix_B, num_rows_B, num_cols_A, num_rows_A, num_cols_B):\n",
    "    if num_rows_B == num_cols_A:\n",
    "                matrix_dotprodAB = np.zeros((num_rows_A, num_cols_B))\n",
    "\n",
    "                for i in range(len(matrix_A)):\n",
    "                     for j in range(len(matrix_B[0])):\n",
    "                        for k in range(len(matrix_B)):\n",
    "                            matrix_dotprodAB[i][j] += matrix_A[i][k] * matrix_B[k][j]\n",
    "                return matrix_dotprodAB\n",
    "    else:\n",
    "        print(\"The matrices are not compatible\")\n",
    "        return None\n",
    "\n"
   ]
  },
  {
   "cell_type": "markdown",
   "id": "0dc3bb6a",
   "metadata": {},
   "source": [
    "#### Part a:"
   ]
  },
  {
   "cell_type": "code",
   "execution_count": 17,
   "id": "9e10c015",
   "metadata": {
    "scrolled": true
   },
   "outputs": [
    {
     "name": "stdout",
     "output_type": "stream",
     "text": [
      "Enter number of rows for matrix A: 3\n",
      "Enter numer of columns for matrix A: 3\n",
      "Enter value: -4\n",
      "Enter value: -3\n",
      "Enter value: -2\n",
      "Enter value: 6\n",
      "Enter value: 0\n",
      "Enter value: -1\n",
      "Enter value: 2\n",
      "Enter value: 1\n",
      "Enter value: 3\n",
      "MATRIX A\n",
      "[[-4 -3 -2]\n",
      " [ 6  0 -1]\n",
      " [ 2  1  3]]\n",
      "Enter number of rows for matrix B: 3\n",
      "Enter numer of columns for matrix B: 2\n",
      "Enter value: 5\n",
      "Enter value: 4\n",
      "Enter value: 6\n",
      "Enter value: 7\n",
      "Enter value: -4\n",
      "Enter value: -3\n",
      "MATRIX B\n",
      "[[ 5  4]\n",
      " [ 6  7]\n",
      " [-4 -3]]\n"
     ]
    }
   ],
   "source": [
    "matrix_A, matrix_B, num_rows_B, num_cols_A, num_rows_A, num_cols_B = create_matrix()"
   ]
  },
  {
   "cell_type": "code",
   "execution_count": 18,
   "id": "364ec3a6",
   "metadata": {
    "scrolled": true
   },
   "outputs": [
    {
     "data": {
      "text/plain": [
       "array([[-30., -31.],\n",
       "       [ 34.,  27.],\n",
       "       [  4.,   6.]])"
      ]
     },
     "execution_count": 18,
     "metadata": {},
     "output_type": "execute_result"
    }
   ],
   "source": [
    "dot_product(matrix_A, matrix_B, num_rows_B, num_cols_A, num_rows_A, num_cols_B)"
   ]
  },
  {
   "cell_type": "code",
   "execution_count": 19,
   "id": "d232677d",
   "metadata": {
    "scrolled": true
   },
   "outputs": [
    {
     "name": "stdout",
     "output_type": "stream",
     "text": [
      "[[-30 -31]\n",
      " [ 34  27]\n",
      " [  4   6]]\n"
     ]
    }
   ],
   "source": [
    "dotProd_AB = np.dot(matrix_A, matrix_B)\n",
    "print(dotProd_AB)"
   ]
  },
  {
   "cell_type": "code",
   "execution_count": 20,
   "id": "bda35d9f",
   "metadata": {},
   "outputs": [
    {
     "name": "stdout",
     "output_type": "stream",
     "text": [
      "Enter number of rows for matrix A: 2\n",
      "Enter numer of columns for matrix A: 2\n",
      "Enter value: 1\n",
      "Enter value: 0\n",
      "Enter value: 0\n",
      "Enter value: 1\n",
      "MATRIX A\n",
      "[[1 0]\n",
      " [0 1]]\n",
      "Enter number of rows for matrix B: 2\n",
      "Enter numer of columns for matrix B: 4\n",
      "Enter value: 1\n",
      "Enter value: 2\n",
      "Enter value: 3\n",
      "Enter value: 4\n",
      "Enter value: 5\n",
      "Enter value: 6\n",
      "Enter value: 7\n",
      "Enter value: 8\n",
      "MATRIX B\n",
      "[[1 2 3 4]\n",
      " [5 6 7 8]]\n"
     ]
    }
   ],
   "source": [
    "matrix_A, matrix_B, num_rows_B, num_cols_A, num_rows_A, num_cols_B = create_matrix()"
   ]
  },
  {
   "cell_type": "code",
   "execution_count": 21,
   "id": "2ffdd5b5",
   "metadata": {},
   "outputs": [
    {
     "data": {
      "text/plain": [
       "array([[1., 2., 3., 4.],\n",
       "       [5., 6., 7., 8.]])"
      ]
     },
     "execution_count": 21,
     "metadata": {},
     "output_type": "execute_result"
    }
   ],
   "source": [
    "dot_product(matrix_A, matrix_B, num_rows_B, num_cols_A, num_rows_A, num_cols_B)"
   ]
  },
  {
   "cell_type": "code",
   "execution_count": 22,
   "id": "c263be92",
   "metadata": {
    "scrolled": true
   },
   "outputs": [
    {
     "name": "stdout",
     "output_type": "stream",
     "text": [
      "[[1 2 3 4]\n",
      " [5 6 7 8]]\n"
     ]
    }
   ],
   "source": [
    "dotProd_AB = np.dot(matrix_A, matrix_B)\n",
    "print(dotProd_AB)"
   ]
  },
  {
   "cell_type": "markdown",
   "id": "fa821087",
   "metadata": {},
   "source": [
    "#### Part b:\n",
    "\n",
    "Yes, the packaged dot product numpy.dot and the handwritten code for matrix multiplication give the same results."
   ]
  },
  {
   "cell_type": "markdown",
   "id": "bec37cb9",
   "metadata": {},
   "source": [
    "\n",
    "\n"
   ]
  },
  {
   "cell_type": "markdown",
   "id": "787a1bfe",
   "metadata": {},
   "source": [
    "## Question 2\n",
    "\n",
    "Assume that we have two (2) d-dimensional real vectors x and y. And denote by xi (or yi)\n",
    "the value in the i-th coordinate of x (or y). Prove or disprove the following statements by\n",
    "checking non-negativity, definiteness, homogeneity, and triangle inequality.\n",
    "\n",
    "a. The following distance function is a metric. (5 points)\n",
    "\n",
    "${L_{1}(x,y)} =  \\sum \\limits _{i=1} ^{d} \\lvert x_{i} - y_{i} \\rvert$\n",
    "\n",
    "b. The following distance function is a metric. (5 points)\n",
    "\n",
    "${L_{2}(x,y)} =  \\sqrt {\\sum \\limits _{i=1} ^{d} { (x_{i} - y_{i})}^2}$\n",
    "\n",
    "c. The following distance function is a metric. (10 points)\n",
    "\n",
    "${L_{2}^2(x,y)} =   {\\sum \\limits _{i=1} ^{d} { (x_{i} - y_{i})}^2}$\n",
    "\n"
   ]
  },
  {
   "cell_type": "markdown",
   "id": "ef2b7e51",
   "metadata": {},
   "source": [
    "### In order to check whether a distance function is a metric, we need to check for the following properties:\n",
    "\n",
    "\n",
    "\n",
    "Non-negativity: For all $ x ∈ R^n $, $f(x) ≥ 0 $\n",
    "\n",
    "Definiteness: f(x) = 0 if x = 0\n",
    "\n",
    "Homogeneity: For all $ x ∈ R^n, t ∈ R → f(tx) = \\lvert t \\rvert f(x) $\n",
    "\n",
    "Triangle inequality: $ d(𝑥,𝑦) ≤ d(𝑥,𝑧) + d(𝑧,𝑦) $ for all points $ 𝑥,𝑦,𝑧 ∈ 𝑋 $"
   ]
  },
  {
   "cell_type": "markdown",
   "id": "fa16e53d",
   "metadata": {},
   "source": [
    "#### Part a:\n",
    "\n",
    "${L_{1}(x,y)} =  \\sum \\limits _{i=1} ^{d} \\lvert x_{i} - y_{i} \\rvert$\n",
    "\n"
   ]
  },
  {
   "cell_type": "markdown",
   "id": "9fe406af",
   "metadata": {},
   "source": [
    " "
   ]
  },
  {
   "cell_type": "markdown",
   "id": "fcd14a74",
   "metadata": {},
   "source": [
    "${\\lvert x_{i} - y_{i} \\rvert ≥0}$ for all 1 ≤ i ≤ d \n",
    "\n",
    "Hence, \n",
    "\n",
    "$\\sum \\limits _{i=1} ^{d} \\lvert x_{i} - y_{i} \\rvert ≥0$\n",
    "\n",
    "The distance function is non-negative."
   ]
  },
  {
   "cell_type": "markdown",
   "id": "2f8766f5",
   "metadata": {},
   "source": [
    "\n"
   ]
  },
  {
   "cell_type": "markdown",
   "id": "50b32574",
   "metadata": {},
   "source": [
    "if ${  x_{i} - y_{i} = 0}$ \n",
    "\n",
    "then, ${\\lvert x_{i} - y_{i} \\rvert = 0}$ for all 1 ≤ i ≤ d \n",
    "\n",
    "Hence,\n",
    "\n",
    "$ \\sum \\limits _{i=1} ^{d} \\lvert x_{i} - y_{i} \\rvert = 0 $\n",
    "\n",
    "The distance function is definite."
   ]
  },
  {
   "cell_type": "markdown",
   "id": "7e80a96b",
   "metadata": {},
   "source": [
    "\n"
   ]
  },
  {
   "cell_type": "markdown",
   "id": "9f88eac5",
   "metadata": {},
   "source": [
    "${\\lvert t . x_{i} - t . y_{i} \\rvert = \\lvert t \\rvert . \\lvert x_{i} - y_{i} \\rvert}$ for all 1 ≤ i ≤ d \n",
    "\n",
    "Hence,\n",
    "\n",
    "$ \\sum \\limits _{i=1} ^{d} \\lvert t . x_{i} - t . y_{i} \\rvert = \\sum \\limits _{i=1} ^{d} \\lvert t \\rvert . \\lvert x_{i} - y_{i} \\rvert = \\lvert t \\rvert . \\sum \\limits _{i=1} ^{d}  \\lvert x_{i} - y_{i} \\rvert $\n",
    "\n",
    "The distance function is homogenous."
   ]
  },
  {
   "cell_type": "markdown",
   "id": "2abadb87",
   "metadata": {},
   "source": [
    "\n"
   ]
  },
  {
   "cell_type": "markdown",
   "id": "fe8c3f50",
   "metadata": {},
   "source": [
    "\n",
    "Consider,\n",
    "\n",
    "${L_{1}(x,y)} =  \\sum \\limits _{i=1} ^{d} \\lvert x_{i} - y_{i} \\rvert$\n",
    "\n",
    "${L_{1}(x,z)} =  \\sum \\limits _{i=1} ^{d} \\lvert x_{i} - z_{i} \\rvert$\n",
    "\n",
    "${L_{1}(z,y)} =  \\sum \\limits _{i=1} ^{d} \\lvert z_{i} - y_{i} \\rvert$\n",
    "\n",
    "Hence,\n",
    "\n",
    "${L_{1}(x,y)} =  \\sum \\limits _{i=1} ^{d} \\lvert x_{i} - y_{i} \\rvert = \\sum \\limits _{i=1} ^{d} \\lvert x_{i} - z_{i}  +   z_{i} - y_{i} \\rvert ≤ \\sum \\limits _{i=1} ^{d} \\lvert x_{i} - z_{i} \\rvert + \\sum \\limits _{i=1} ^{d} \\lvert z_{i} - y_{i} \\rvert$\n",
    "\n",
    "${L_{1}(x,y)} ≤ L_{1}(x,z) + L_{1}(z,y)$\n",
    "\n",
    "The distance function satisfies the triangle inequality condition."
   ]
  },
  {
   "cell_type": "markdown",
   "id": "c4273bf7",
   "metadata": {},
   "source": [
    "\n"
   ]
  },
  {
   "cell_type": "markdown",
   "id": "f75de9a0",
   "metadata": {},
   "source": [
    "The distance function ${L_{1}(x,y)} =  \\sum \\limits _{i=1} ^{d} \\lvert x_{i} - y_{i} \\rvert $ is a metric."
   ]
  },
  {
   "cell_type": "markdown",
   "id": "db5efae6",
   "metadata": {},
   "source": [
    "#### Part b:\n",
    "\n",
    "${L_{2}(x,y)} =  \\sqrt {\\sum \\limits _{i=1} ^{d} { (x_{i} - y_{i})}^2}$"
   ]
  },
  {
   "cell_type": "markdown",
   "id": "6c9ef2ea",
   "metadata": {},
   "source": [
    "\n"
   ]
  },
  {
   "cell_type": "markdown",
   "id": "1e834f54",
   "metadata": {},
   "source": [
    "\n"
   ]
  },
  {
   "cell_type": "markdown",
   "id": "ea91361b",
   "metadata": {},
   "source": [
    "$  {{ (x_{i} - y_{i})}^2 ≥ 0} $ for all 1 ≤ i ≤ d \n",
    "\n",
    "$ {\\sum \\limits _{i=1} ^{d} { (x_{i} - y_{i})}^2} ≥0$ is a non-negative real function since it is a metric and the square root of any non-negative real number is also a non-negative real number. \n",
    "\n",
    "Hence, \n",
    "\n",
    "$\\sqrt {\\sum \\limits _{i=1} ^{d} { (x_{i} - y_{i})}^2} ≥0$  is a non-negative real function.\n",
    "\n",
    "\n",
    "The distance function is non-negative."
   ]
  },
  {
   "cell_type": "markdown",
   "id": "e178b2a8",
   "metadata": {},
   "source": [
    "\n"
   ]
  },
  {
   "cell_type": "markdown",
   "id": "61c9c436",
   "metadata": {},
   "source": [
    "if ${  x_{i} - y_{i} = 0}$ \n",
    "\n",
    "⇒ ${{(x_{i} - y_{i})}^2 = 0}$ for all 1 ≤ i ≤ d \n",
    "\n",
    "⇒ $ {\\sum \\limits _{i=1} ^{d} { (x_{i} - y_{i})}^2} = 0$\n",
    "\n",
    "Hence,\n",
    "\n",
    "$ \\sqrt {\\sum \\limits _{i=1} ^{d} { (x_{i} - y_{i})}^2} = 0$\n",
    "\n",
    "The distance function is definite."
   ]
  },
  {
   "cell_type": "markdown",
   "id": "a2f01710",
   "metadata": {},
   "source": [
    "\n"
   ]
  },
  {
   "cell_type": "markdown",
   "id": "9236a08d",
   "metadata": {},
   "source": [
    "$ f(x) = \\sqrt {\\sum \\limits _{i=1} ^{d} { (x_{i} - y_{i})}^2} $\n",
    "\n",
    "$ f(t.x) = \\sqrt {\\sum \\limits _{i=1} ^{d} { (t.x_{i} - t.y_{i})}^2} = \\sqrt {\\sum \\limits _{i=1} ^{d} { t^2(x_{i} - y_{i})}^2} =  |t| \\sqrt {\\sum \\limits _{i=1} ^{d} {(x_{i} - y_{i})}^2} = \\lvert t \\rvert f(x)$ \n",
    "\n",
    "\n",
    "The distance function is homogenous."
   ]
  },
  {
   "cell_type": "markdown",
   "id": "e25705c4",
   "metadata": {},
   "source": [
    "\n"
   ]
  },
  {
   "cell_type": "markdown",
   "id": "1cd77996",
   "metadata": {},
   "source": [
    "${L_{2}(x,y)} =  \\sqrt {\\sum \\limits _{i=1} ^{d} { (x_{i} - y_{i})}^2} $\n",
    "\n",
    "${L_{2}(x,z)} =  \\sqrt {\\sum \\limits _{i=1} ^{d} { (x_{i} - z_{i})}^2} $\n",
    "\n",
    "${L_{2}(z,y)} =  \\sqrt {\\sum \\limits _{i=1} ^{d} { (z_{i} - y_{i})}^2} $\n",
    "\n",
    "Hence,\n",
    "\n",
    "${L_{2}(x,y)} =  \\sqrt {\\sum \\limits _{i=1} ^{d} { (x_{i} - y_{i})}^2} ≤ \\sqrt {\\sum \\limits _{i=1} ^{d} { (x_{i} - z_{i})}^2} + \\sqrt {\\sum \\limits _{i=1} ^{d} { (z_{i} - y_{i})}^2} $\n",
    "\n",
    "${L_{2}(x,y)} ≤ L_{2}(x,z) + L_{2}(z,y)$\n",
    "\n",
    "The distance function satisfies the triangle inequality condition."
   ]
  },
  {
   "cell_type": "markdown",
   "id": "2414b7e5",
   "metadata": {},
   "source": [
    "\n"
   ]
  },
  {
   "cell_type": "markdown",
   "id": "cb144ca2",
   "metadata": {},
   "source": [
    "The distance function ${L_{2}(x,y)} =  \\sqrt {\\sum \\limits _{i=1} ^{d} { (x_{i} - y_{i})}^2} $ is a metric."
   ]
  },
  {
   "cell_type": "markdown",
   "id": "c1904d62",
   "metadata": {},
   "source": [
    "\n"
   ]
  },
  {
   "cell_type": "markdown",
   "id": "b89b7277",
   "metadata": {},
   "source": [
    "#### Part c:\n",
    "\n",
    "${L_{2}^2(x,y)} =   {\\sum \\limits _{i=1} ^{d} { (x_{i} - y_{i})}^2}$"
   ]
  },
  {
   "cell_type": "markdown",
   "id": "9406e0ab",
   "metadata": {},
   "source": [
    "\n"
   ]
  },
  {
   "cell_type": "markdown",
   "id": "ee7ec89d",
   "metadata": {},
   "source": [
    "$  { (x_{i} - y_{i})}^2 ≥ 0 $ for all 1 ≤ i ≤ d \n",
    "\n",
    "⇒ $ {\\sum \\limits _{i=1} ^{d} { (x_{i} - y_{i})}^2} ≥ 0 $ \n",
    "\n",
    "⇒ ${L_{2}^2(x,y)} ≥ 0 $\n",
    "\n",
    "The distance function is non-negative."
   ]
  },
  {
   "cell_type": "markdown",
   "id": "d7486099",
   "metadata": {},
   "source": [
    "\n"
   ]
  },
  {
   "cell_type": "markdown",
   "id": "a28a4883",
   "metadata": {},
   "source": [
    "if ${  x_{i} - y_{i} = 0} $ \n",
    "\n",
    "⇒ ${{(x_{i} - y_{i})}^2 = 0}$ for all 1 ≤ i ≤ d \n",
    "\n",
    "⇒ $ {\\sum \\limits _{i=1} ^{d} { (x_{i} - y_{i})}^2} = 0$\n",
    "\n",
    "Hence,\n",
    "\n",
    "${L_{2}^2(x,y)} = 0 $\n",
    "\n",
    "The distance function is definite."
   ]
  },
  {
   "cell_type": "markdown",
   "id": "6138db0e",
   "metadata": {},
   "source": [
    "\n"
   ]
  },
  {
   "cell_type": "markdown",
   "id": "7d0fe198",
   "metadata": {},
   "source": [
    "$ f(x) =    {\\sum \\limits _{i=1} ^{d} { (x_{i} - y_{i})}^2} $\n",
    "\n",
    "$ f(t.x) =    {\\sum \\limits _{i=1} ^{d} { (t.x_{i} - t.y_{i})}^2} = {\\sum \\limits _{i=1} ^{d} { t^2(x_{i} - y_{i})}^2} =  t^2  {\\sum \\limits _{i=1} ^{d} {(x_{i} - y_{i})}^2} $ \n",
    "\n",
    "\n",
    "The distance function is homogenous."
   ]
  },
  {
   "cell_type": "markdown",
   "id": "a60b57a1",
   "metadata": {},
   "source": [
    "\n"
   ]
  },
  {
   "cell_type": "markdown",
   "id": "2e26f670",
   "metadata": {},
   "source": [
    "Consider,\n",
    "\n",
    "${L_{2}^2(x,y)} =  {\\sum \\limits _{i=1} ^{d} { (x_{i} - y_{i})}^2} $\n",
    "\n",
    "${L_{2}^2(x,z)} =  {\\sum \\limits _{i=1} ^{d} { (x_{i} - z_{i})}^2}$\n",
    "\n",
    "${L_{2}^2(z,y)} =  {\\sum \\limits _{i=1} ^{d} { (z_{i} - y_{i})}^2}$\n",
    "\n",
    "Hence,\n",
    "\n",
    "${L_{2}^2(x,z)} + {L_{2}^2(z,y)}$\n",
    "\n",
    "⇒ $ {\\sum \\limits _{i=1} ^{d} { (x_{i} - z_{i})}^2} + {\\sum \\limits _{i=1} ^{d} { (z_{i} - y_{i})}^2} $\n",
    "\n",
    "⇒ $ {\\sum \\limits _{i=1} ^{d} ({x_i^2 - 2x_i.z_i + z_i^2 + z_i^2 - 2z_i.y_i + y_i^2})} $\n",
    "\n",
    "⇒ $ {\\sum \\limits _{i=1} ^{d} ({x_i^2 + y_i^2 + 2z_i^2 - 2x_i.z_i - 2z_i.y_i })} $\n",
    "\n",
    "⇒ $ {\\sum \\limits _{i=1} ^{d} ({x_i^2 + y_i^2 - 2x_i.y_i + 2x_i.y_i + 2z_i^2 - 2x_i.z_i - 2z_i.y_i })} $\n",
    "\n",
    "⇒ $ {\\sum \\limits _{i=1} ^{d} ({(x_i - y_i)^2 + 2x_i.y_i + 2z_i^2 - 2x_i.z_i - 2z_i.y_i })} $\n",
    "\n",
    "⇒ $ {\\sum \\limits _{i=1} ^{d} ({(x_i - y_i)^2 + 2(z_i^2 + x_i.y_i - x_i.z_i - z_i.y_i )})} $\n",
    "\n",
    "⇒ $ {\\sum \\limits _{i=1} ^{d} {(x_i - y_i)^2}} + 2{\\sum \\limits _{i=1} ^{d} (z_i^2 + x_i.y_i - x_i.z_i - z_i.y_i )} $\n",
    "\n",
    "Now, consider $ t = 2{\\sum \\limits _{i=1} ^{d} (z_i^2 + x_i.y_i - x_i.z_i - z_i.y_i )} $\n",
    "\n",
    "LHS: ${\\sum \\limits _{i=1} ^{d} { (x_{i} - y_{i})}^2}$\n",
    "\n",
    "RHS: ${\\sum \\limits _{i=1} ^{d} { (x_{i} - y_{i})}^2}$ + t\n",
    "\n",
    "if t = 0, then LHS = RHS\n",
    "\n",
    "if t > 0, then LHS  < RHS\n",
    "\n",
    "But,\n",
    "if t < 0, then LHS > RHS\n",
    "\n",
    "i.e. if $ 2{\\sum \\limits _{i=1} ^{d} (z_i^2 + x_i.y_i - x_i.z_i - z_i.y_i )} < 0 $ then ${L_{2}^2(x,y) > L_{2}^2(x,z) + L_{2}^2(z,y)} $\n",
    "\n",
    "The distance function does not satisfy the triangle inequality condition for all cases."
   ]
  },
  {
   "cell_type": "markdown",
   "id": "0f97da65",
   "metadata": {},
   "source": [
    "\n"
   ]
  },
  {
   "cell_type": "markdown",
   "id": "163abc52",
   "metadata": {},
   "source": [
    "The distance function ${{L_{2}^2(x,y)} = {\\sum \\limits _{i=1} ^{d} { (x_{i} - y_{i})}^2}} $ is not a metric.\n"
   ]
  },
  {
   "cell_type": "markdown",
   "id": "45c4f211",
   "metadata": {},
   "source": [
    "\n"
   ]
  },
  {
   "cell_type": "markdown",
   "id": "147bb9e8",
   "metadata": {},
   "source": [
    "## Question 3\n",
    "\n",
    "Calculating by hand, find the characteristic polynomial, eigenvalues and the eigenvectors\n",
    "of the following matrix:\n",
    "\n",
    "$$\\begin{bmatrix} 4 & 4 & 4 \\\\ -2 & -3 & -6 \\\\ 1 & 3 & 6 \\end{bmatrix}$$\n"
   ]
  },
  {
   "cell_type": "markdown",
   "id": "62e372c4",
   "metadata": {},
   "source": [
    "Let's assume,\n",
    "$\\begin{align}\n",
    "A = \\begin{bmatrix} 4 & 4 & 4 \\\\ -2 & -3 & -6 \\\\ 1 & 3 & 6 \\end{bmatrix}\n",
    "\\end{align}$\n"
   ]
  },
  {
   "cell_type": "markdown",
   "id": "4604ba81",
   "metadata": {},
   "source": [
    "\n",
    "### characteristic polynomial of matrix:\n",
    "\n"
   ]
  },
  {
   "cell_type": "markdown",
   "id": "2e43fe09",
   "metadata": {},
   "source": [
    "##### step 1:\n",
    "\n",
    "$ [A] - \\lambda . [I] = \\begin{bmatrix} 4 & 4 & 4 \\\\ -2 & -3 & -6 \\\\ 1 & 3 & 6 \\end{bmatrix} - \\lambda . \\begin{bmatrix} 1 & 0 & 0 \\\\ 0 & 1 & 0 \\\\ 0 & 0 & 1 \\end{bmatrix} = \\begin{bmatrix} 4-\\lambda & 4 & 4 \\\\ -2 & -3-\\lambda & -6 \\\\ 1 & 3 & 6-\\lambda \\end{bmatrix}$"
   ]
  },
  {
   "cell_type": "markdown",
   "id": "03327451",
   "metadata": {},
   "source": [
    "##### step 2:\n",
    "\n",
    "$ det([A] - \\lambda * [I]) = \\{(4 - \\lambda) * [(-3 - \\lambda) * (6 - \\lambda) - (-6 * 3)]\\} - \\{4 * [(-2 * (6 - \\lambda)) - (-6 * -1)]\\} + \\{4 * [(-2 * 3) - (1 * (-3-\\lambda))] \\}$\n",
    "\n",
    "$ \\{4 * [\\lambda^2 - 3\\lambda] - \\lambda[\\lambda^2 - 3\\lambda]\\} - \\{-24 + 8\\lambda\\} + \\{-12 + 4\\lambda\\} $"
   ]
  },
  {
   "cell_type": "markdown",
   "id": "b02a7841",
   "metadata": {},
   "source": [
    "##### Answer:\n",
    "\n",
    "$ -\\lambda^3 + 7\\lambda^2 - 16\\lambda + 12 $"
   ]
  },
  {
   "cell_type": "markdown",
   "id": "dbae7edf",
   "metadata": {},
   "source": [
    "\n",
    "### eigenvalues of matrix:\n",
    "\n"
   ]
  },
  {
   "cell_type": "markdown",
   "id": "a5038041",
   "metadata": {},
   "source": [
    "#### step 1:\n",
    "\n",
    "The characteristic equation is:\n",
    "\n",
    "$ -\\lambda^3 + 7\\lambda^2 - 16\\lambda + 12 = 0$\n"
   ]
  },
  {
   "cell_type": "markdown",
   "id": "89e07268",
   "metadata": {},
   "source": [
    "\n"
   ]
  },
  {
   "cell_type": "markdown",
   "id": "18a3f6c8",
   "metadata": {},
   "source": [
    "#### step 2:\n",
    "\n",
    "factorizing the above equation:\n",
    "\n",
    "$ (\\lambda - 2)(-\\lambda^2 + 5\\lambda - 6) = 0 $\n",
    "\n",
    "$ (\\lambda - 2)(-\\lambda^2 + 2\\lambda + 3\\lambda- 6) = 0 $\n",
    "\n",
    "$ (\\lambda - 2)[-\\lambda(\\lambda-2) + 3(\\lambda - 2)] = 0 $\n",
    "\n",
    "$ (\\lambda - 2)(\\lambda - 2)(\\lambda -3) = 0 $\n",
    "\n",
    "$ \\lambda = 2, \\lambda =3 $\n",
    "\n"
   ]
  },
  {
   "cell_type": "markdown",
   "id": "ec5befc0",
   "metadata": {},
   "source": [
    "#### Answer:\n",
    "\n",
    "The eigenvalues are 2 & 3."
   ]
  },
  {
   "cell_type": "markdown",
   "id": "9f75d590",
   "metadata": {},
   "source": [
    "\n"
   ]
  },
  {
   "cell_type": "markdown",
   "id": "3519d52f",
   "metadata": {},
   "source": [
    "### eigenvectors of matrix:"
   ]
  },
  {
   "cell_type": "markdown",
   "id": "e9aec63f",
   "metadata": {},
   "source": [
    "\n"
   ]
  },
  {
   "cell_type": "markdown",
   "id": "1b2d208e",
   "metadata": {},
   "source": [
    "\n",
    "\n",
    "#### When $ \\lambda = 2 $,\n",
    "\n",
    "#### step 1:\n",
    "\n",
    "⇒ $ \\begin{bmatrix} 4-\\lambda & 4 & 4 \\\\ -2 & -3-\\lambda & -6 \\\\ 1 & 3 & 6-\\lambda \\end{bmatrix}\\begin{bmatrix} X \\\\ Y \\\\ Z\\end{bmatrix}= \\begin{bmatrix} 0 \\\\ 0 \\\\ 0\\end{bmatrix} $\n",
    "\n",
    "⇒ $ \\begin{bmatrix} 2 & 4 & 4 \\\\ -2 & -5 & -6 \\\\ 1 & 3 & 4 \\end{bmatrix}\\begin{bmatrix} X \\\\ Y \\\\ Z\\end{bmatrix}= \\begin{bmatrix} 0 \\\\ 0 \\\\ 0\\end{bmatrix} $\n",
    "\n",
    "\n"
   ]
  },
  {
   "cell_type": "markdown",
   "id": "0c22ef6a",
   "metadata": {},
   "source": [
    "#### step 2:\n",
    "\n",
    "Setting X = 1, we get the following equations:\n",
    "\n",
    "$ 2(1) + 4Y + 4Z = 0 $\n",
    "\n",
    "$ -2(1) - 5Y - 6Z = 0 $"
   ]
  },
  {
   "cell_type": "markdown",
   "id": "b31e6518",
   "metadata": {},
   "source": [
    "#### step 3:\n",
    "\n",
    "⇒ $ [2 + 4Y + 4Z = 0] ------> X 3 $ (eq1)\n",
    "\n",
    "$ [-2 - 5Y - 6Z = 0] ------> X 2 $  (eq2)\n",
    "\n",
    "---------------------------------\n",
    "⇒ $ 12Y + 12Z + 6 = 0 $\n",
    "\n",
    "$ -10Y - 12Z - 4 = 0 $\n",
    "\n",
    "---------------------------------\n",
    "⇒ $ 2Y + 2 = 0 $\n",
    "\n",
    "⇒ $ Y = -1 $\n",
    "\n",
    "----------------------------------\n",
    "\n",
    "Substituting Y = -1 in eq1\n",
    "\n",
    "⇒ $ 2 + 4(-1) + 4Z = 0 $\n",
    "\n",
    "⇒ $ 4Z - 2 = 0 $\n",
    "\n",
    "⇒ $ Z = 1/2 $"
   ]
  },
  {
   "cell_type": "markdown",
   "id": "8471e649",
   "metadata": {},
   "source": [
    "#### step 4:\n",
    "\n",
    "The eigenvector when $\\lambda = 2 $ is (1, -1, 1/2)\n",
    "\n",
    "For convenience, we can scale up by a factor of 2, to get:\n",
    "\n",
    "(2, -2, 1)"
   ]
  },
  {
   "cell_type": "markdown",
   "id": "b4af4cf1",
   "metadata": {},
   "source": [
    "\n"
   ]
  },
  {
   "cell_type": "markdown",
   "id": "e23e8a48",
   "metadata": {},
   "source": [
    "#### When $ \\lambda = 3 $,\n",
    "\n",
    "#### step 1:\n",
    "\n",
    "⇒ $ \\begin{bmatrix} 4-\\lambda & 4 & 4 \\\\ -2 & -3-\\lambda & -6 \\\\ 1 & 3 & 6-\\lambda \\end{bmatrix}\\begin{bmatrix} X \\\\ Y \\\\ Z\\end{bmatrix}= \\begin{bmatrix} 0 \\\\ 0 \\\\ 0\\end{bmatrix} $\n",
    "\n",
    "⇒ $ \\begin{bmatrix} 1 & 4 & 4 \\\\ -2 & -6 & -6 \\\\ 1 & 3 & 3 \\end{bmatrix}\\begin{bmatrix} X \\\\ Y \\\\ Z\\end{bmatrix}= \\begin{bmatrix} 0 \\\\ 0 \\\\ 0\\end{bmatrix} $"
   ]
  },
  {
   "cell_type": "markdown",
   "id": "ce13ff3f",
   "metadata": {},
   "source": [
    "#### step 2:\n",
    "\n",
    "Setting X = 1, we get the following equations:\n",
    "\n",
    "$ 1(1) + 4Y + 4Z = 0 $\n",
    "\n",
    "$ -2(1) - 6Y - 6Z = 0 $"
   ]
  },
  {
   "cell_type": "markdown",
   "id": "4dc39804",
   "metadata": {},
   "source": [
    "#### step 3:\n",
    "\n",
    "⇒ $ [1 + 4Y + 4Z = 0] ------> X 3 $ (eq1)\n",
    "\n",
    "$ [-2 - 6Y - 6Z = 0] ------> X 2 $  (eq2)\n",
    "\n",
    "---------------------------------\n",
    "⇒ $ 12Y + 12Z + 3 = 0 $\n",
    "\n",
    "$ -12Y - 12Z - 4 = 0 $\n",
    "\n",
    "---------------------------------\n",
    "⇒ $ X  ≠ 1$\n",
    "\n"
   ]
  },
  {
   "cell_type": "markdown",
   "id": "92161122",
   "metadata": {},
   "source": [
    "#### step 4:\n",
    "\n",
    "Setting Y = 1, we get the following equations:\n",
    "\n",
    "$ X + 4(1) + 4Z = 0 $\n",
    "\n",
    "$ -2X - 6(1) - 6Z = 0 $"
   ]
  },
  {
   "cell_type": "markdown",
   "id": "5a946153",
   "metadata": {},
   "source": [
    "#### step 5:\n",
    "\n",
    "⇒ $ X +  4Z + 4 = 0 ------- X2 $ (eq1)\n",
    "\n",
    "$ -2X - 6Z - 6 = 0 $ (eq2)\n",
    "\n",
    "---------------------------------\n",
    "\n",
    "⇒ $ 2X +8Z +8 = 0 $\n",
    "\n",
    "$ -2X - 6Z - 6 = 0 $\n",
    "\n",
    "---------------------------------\n",
    "\n",
    "⇒ $ 2Z + 2 = 0 $\n",
    "\n",
    "---------------------------------\n",
    "\n",
    "⇒ $ Z = -1$"
   ]
  },
  {
   "cell_type": "markdown",
   "id": "94a70aba",
   "metadata": {},
   "source": [
    "#### step 6:\n",
    "\n",
    "Substituting $ Z = -1 $ in eq1\n",
    "\n",
    "$ X = 0 $"
   ]
  },
  {
   "cell_type": "markdown",
   "id": "65cde84c",
   "metadata": {},
   "source": [
    "#### step 7:\n",
    "\n",
    "The eigenvector when $\\lambda = 2 $ is (1, -1, 1/2)\n",
    "\n",
    "For convenience, we can scale up by a factor of 2, to get:\n",
    "\n",
    "(0, 1, -1)"
   ]
  },
  {
   "cell_type": "markdown",
   "id": "d24cf016",
   "metadata": {},
   "source": [
    "\n"
   ]
  },
  {
   "cell_type": "markdown",
   "id": "a621a3a1",
   "metadata": {},
   "source": [
    "#### Answer:\n",
    "\n",
    "The Eigenvector corresponding to $\\lambda = 2$ is $ [2, -2, 1] $\n",
    "\n",
    "The Eigenvector corresponding to $\\lambda = 3$ is $ [0, 1, -1] $\n"
   ]
  },
  {
   "cell_type": "markdown",
   "id": "5bbff643",
   "metadata": {},
   "source": [
    "\n"
   ]
  },
  {
   "cell_type": "markdown",
   "id": "c673cdd0",
   "metadata": {},
   "source": [
    "## Question 4\n",
    "\n",
    "Provide a proof for the following: Let A, B, and C be any n x n matrices:\n",
    "\n",
    "a. Show that trace(ABC) = trace(CAB) = trace(BCA) (10 points)\n",
    "\n",
    "b. trace(ABC) = trace(BAC). Provide a proof or a counterexample (10 points)"
   ]
  },
  {
   "cell_type": "markdown",
   "id": "7cfbf567",
   "metadata": {},
   "source": [
    "\n"
   ]
  },
  {
   "cell_type": "markdown",
   "id": "418bc95f",
   "metadata": {},
   "source": [
    "#### Part a:\n",
    "\n",
    "Consider the following two matrices,\n",
    "\n",
    "$ X = \\begin{bmatrix} x_{11} & x_{12} & x_{13} & ... & x_{1n} \\\\ x_{21} & x_{22} & x_{23} & ... & x_{2n} \\\\ x_{31} & x_{32} & x_{33} & ... & x_{3n} \\\\ ... & ... & ... & ... & .... \\\\ x_{n1} & x_{n2} & x_{n3} & ... & x_{nn} \\end{bmatrix} $ \n",
    "\n",
    "$ Y = \\begin{bmatrix} y_{11} & y_{12} & y_{13} & ... & y_{1n} \\\\ y_{21} & y_{22} & y_{23} & ... & y_{2n} \\\\ y_{31} & y_{32} & y_{33} & ... & y_{3n} \\\\ ... & ... & ... & ... & ... \\\\ y_{n1} & y_{n2} & y_{n3} & ... & y_{nn} \\end{bmatrix} $ \n",
    "\n",
    "--------------------------\n",
    "\n",
    "Then, \n",
    "\n",
    "$ X.Y = \\begin{bmatrix} x_{11}.y_{11} + x_{12}.y_{21} + ... + x_{1n}.y_{n1}  & ... & ... & ... & ... \\\\ ... & x_{21}.y_{12} + x_{22}.y_{22} + ... + x_{2n}.y_{n2} & ... & ... & ... \\\\ ... & ... & ... & ... & ... \\\\ ... & ... & ... & ... & .... \\\\ ... & ... & ... & ... & x_{n1}.y_{1n} + x_{n2}.y_{2n} + ... + x_{nn}.y_{nn} \\end{bmatrix}  $\n",
    "\n",
    "---------------------------\n",
    "\n",
    "This means that,\n",
    "\n",
    "$ Trace(AB) = [x_{11}.y_{11} + x_{12}.y_{21} + ... + x_{1n}.y_{n1}] + [x_{21}.y_{12} + x_{22}.y_{22} + ... + x_{2n}.y_{n2}] + ... + [x_{n1}.y_{1n} + x_{n2}.y_{2n} + ... + x_{nn}.y_{nn}] $\n",
    "\n",
    "In simpler terms it can be expressed as follows, \n",
    "\n",
    "$ Trace(XY) = \\sum x_{ij}.y_{ji} $\n",
    "\n",
    "⇒ $ Trace(XY) = \\sum_{i} \\sum_{j} x_{ij}.y_{ji} $\n",
    "\n",
    "Since $ x_{ij}, y_{ij} $ are scalar, \n",
    "\n",
    "$ x_{ij}.y_{ij} = y_{ij}.x_{ij} $\n",
    "\n",
    "Hence,\n",
    "\n",
    "⇒ $ Trace(XY) = \\sum_{i} \\sum_{j} y_{ij}.x_{ji} $\n",
    "\n",
    "\n",
    "⇒ $ Trace(XY) = Trace(YX) $\n",
    "\n",
    "----------------------------------\n",
    "\n",
    "Now consider,\n",
    "\n",
    "$ X = AB $\n",
    "\n",
    "$ Y = C $\n",
    "\n",
    "$ Trace(XY) = Trace(YX) $\n",
    "\n",
    "⇒ $ Trace((AB)C) = Trace(C(AB)) $\n",
    "\n",
    "⇒ $ Trace(ABC) = Trace(CAB) $\n",
    "\n",
    "--------------------------------------\n",
    "\n",
    "Also consider,\n",
    "\n",
    "$ X = CA $\n",
    "\n",
    "$ Y = B $\n",
    "\n",
    "$ Trace(XY) = Trace(YX) $\n",
    "\n",
    "⇒ $ Trace((CA)B) = Trace(B(AC)) $\n",
    "\n",
    "⇒ $ Trace(CAB) = Trace(BAC) $\n",
    "\n",
    "-----------------------------------------\n",
    "\n",
    "Therefore,\n",
    "\n",
    "$ Trace(ABC) = Trace(CAB) = Trace(BAC) $"
   ]
  },
  {
   "cell_type": "markdown",
   "id": "8d54117e",
   "metadata": {},
   "source": [
    "\n"
   ]
  },
  {
   "cell_type": "markdown",
   "id": "5b918cc2",
   "metadata": {},
   "source": [
    "#### Part b:\n",
    "\n",
    "Let \n",
    "\n",
    "$ A = \\begin{bmatrix} 3 & 1 \\\\ 0 & 3\\end{bmatrix} $\n",
    "\n",
    "$ B = \\begin{bmatrix} 1 & 2 \\\\ 2 & 1\\end{bmatrix} $\n",
    "\n",
    "$ C = \\begin{bmatrix} 2 & 3 \\\\ 3 & 0\\end{bmatrix} $\n",
    "\n",
    "$ ABC = \\begin{bmatrix} 3 & 1 \\\\ 0 & 3\\end{bmatrix} \\begin{bmatrix} 1 & 2 \\\\ 2 & 1\\end{bmatrix}\\begin{bmatrix} 2 & 3 \\\\ 3 & 0\\end{bmatrix} = \\begin{bmatrix} 5 & 7 \\\\ 6 & 3\\end{bmatrix} \\begin{bmatrix} 2 & 3 \\\\ 3 & 0\\end{bmatrix} = \\begin{bmatrix} 31 & 15 \\\\ 21 & 18 \\end{bmatrix} $\n",
    "\n",
    "$ BAC = \\begin{bmatrix} 1 & 2 \\\\ 2 & 1\\end{bmatrix}  \\begin{bmatrix} 3 & 1 \\\\ 0 & 3\\end{bmatrix} \\begin{bmatrix} 2 & 3 \\\\ 3 & 0\\end{bmatrix} = \\begin{bmatrix} 3 & 7 \\\\ 6 & 5\\end{bmatrix} \\begin{bmatrix} 2 & 3 \\\\ 3 & 0\\end{bmatrix} = \\begin{bmatrix} 27 & 9 \\\\ 27 & 18\\end{bmatrix}$\n",
    "\n",
    "$ Trace(ABC) = 31 + 18 = 49 $\n",
    "\n",
    "$ Trace(BAC) = 27 + 18 = 45 $\n",
    "\n",
    "Thus,\n",
    "\n",
    "$ Trace(ABC) ≠ Trace(BAC) $"
   ]
  },
  {
   "cell_type": "markdown",
   "id": "bc3e0f9c",
   "metadata": {},
   "source": [
    "\n"
   ]
  },
  {
   "cell_type": "markdown",
   "id": "65262284",
   "metadata": {},
   "source": [
    "## Question 5\n",
    "\n",
    "Let A and B be n x n matrices with AB = 0.\n",
    "\n",
    "Each question below is 5 points. Provide a proof or counterexample for each of the\n",
    "following:\n",
    "\n",
    "a. BA = 0\n",
    "\n",
    "b. Either A = 0 or B = 0 (or both)\n",
    "\n",
    "c. If det(A) = -3, then B = 0\n",
    "\n",
    "d. There is a vector v ≠ 0 such that BAv = 0"
   ]
  },
  {
   "cell_type": "markdown",
   "id": "5dd7fb0b",
   "metadata": {},
   "source": [
    "\n"
   ]
  },
  {
   "cell_type": "markdown",
   "id": "656e7b52",
   "metadata": {},
   "source": [
    "#### Part a:\n",
    "\n",
    "$ A = \\begin{bmatrix} 0 & 1 \\\\ 0 & 1 \\end{bmatrix} $\n",
    "\n",
    "$ B = \\begin{bmatrix} 1 & 1 \\\\ 0 & 0 \\end{bmatrix} $\n",
    "\n",
    "$ AB = \\begin{bmatrix} 0 & 0 \\\\ 0 & 0 \\end{bmatrix} $\n",
    "\n",
    "$ BA = \\begin{bmatrix} 0 & 2 \\\\ 0 & 0 \\end{bmatrix} $\n",
    "\n",
    "Hence, the statement if AB = 0 then BA = 0 is False.\n"
   ]
  },
  {
   "cell_type": "markdown",
   "id": "32634eaa",
   "metadata": {},
   "source": [
    "\n"
   ]
  },
  {
   "cell_type": "markdown",
   "id": "8c3345ca",
   "metadata": {},
   "source": [
    "#### Part b:\n",
    "\n",
    "$ A = \\begin{bmatrix} 0 & 1 \\\\ 0 & 1 \\end{bmatrix} $\n",
    "\n",
    "$ B = \\begin{bmatrix} 1 & 1 \\\\ 0 & 0 \\end{bmatrix} $\n",
    "\n",
    "$ AB = \\begin{bmatrix} 0 & 0 \\\\ 0 & 0 \\end{bmatrix} $\n",
    "\n",
    "But,\n",
    "\n",
    "$A ≠ 0$ and $B≠0$\n",
    "\n",
    "Hence, the statement Either A = 0 or B = 0 (or both) is False."
   ]
  },
  {
   "cell_type": "markdown",
   "id": "62375b70",
   "metadata": {},
   "source": [
    "\n"
   ]
  },
  {
   "cell_type": "markdown",
   "id": "983a9415",
   "metadata": {},
   "source": [
    "#### Part c:\n",
    "\n",
    "##### Method 1:\n",
    "$ AB = 0 $\n",
    "\n",
    "⇒ $ det(AB) = 0 $\n",
    "\n",
    "$ det(AB) = det(A) . det(B) $\n",
    "\n",
    "\n",
    "\n",
    "Consider, \n",
    "\n",
    "$ A = \\begin{bmatrix} n_{1} & n_{2} \\\\ n_{3} & n_{4} \\end{bmatrix} $\n",
    "\n",
    "And, $ det(A) = n_{1}. n_{4} - n_{2}.n_{3} =  -3 $\n",
    "\n",
    "$ B = \\begin{bmatrix} b_{11} & b_{12} \\\\ b_{21} & b_{22} \\end{bmatrix} $\n",
    "\n",
    "$ A.B =  \\begin{bmatrix} n_{1}b_{11} + n_{2}b_{21} & b_{1}b_{12} + n_{2}b_{22} \\\\ n_{3}b_{11} + n_{4}b_{21} & n_{3}b_{12} + n_{4}b_{22} \\end{bmatrix} $\n",
    "\n",
    "And, we know that AB=0\n",
    "\n",
    "So we get the following equations:\n",
    "\n",
    "$ n_{1}b_{11} + n_{2}b_{21} = 0 $ (eq 1)\n",
    "\n",
    "$ n_{3}b_{11} + n_{4}b_{21} = 0 $ (eq 2)\n",
    "\n",
    "$ b_{1}b_{12} + n_{2}b_{22} = 0 $ (eq 3)\n",
    "\n",
    "$ n_{3}b_{12} + n_{4}b_{22} = 0 $ (eq 4)\n",
    "\n",
    "Considering eq1 and eq2;\n",
    "\n",
    "$ n_{1}b_{11} + n_{2}b_{21} = 0  ... [eq1 x n_{3}] $\n",
    "\n",
    "$ n_{3}b_{11} + n_{4}b_{21} = 0  ... [eq2 x -n_{1}] $\n",
    "\n",
    "⇒ $ n_{1}n_{3}b_{11} + n_{2}n_{3}b_{21} = 0 $ \n",
    "\n",
    "$ - n_{1}n_{3}b_{11} - n_{1}n_{4}b_{21} = 0 $ (eq 2)\n",
    "\n",
    "Solving the above 2 equations, we get\n",
    "\n",
    "$ [n_{1}n_{4} - n_{2}n_{3}]b_{21} = 0 $\n",
    "\n",
    "So, either $ n_{1}n_{4} - n_{2}n_{3} = 0 $ or $ b_{21} = 0 $\n",
    "\n",
    "But, we know that $ n_{1}n_{4} - n_{2}n_{3} = det(A) = -3 $\n",
    "\n",
    "Hence, $ b_{21} = 0 $\n",
    "\n",
    "Similarly, $ b_{11}=0, b_{21}=0, b_{22}=0 $\n",
    "\n",
    "So if det(A) = -3 then det(B) should be equal to 0.\n",
    "\n",
    "\n",
    "##### Method 2:\n",
    "\n",
    "$ AB = 0$\n",
    "\n",
    "We can assume that $ A^{-1} $ exists since $ det(A) ≠ 0 $\n",
    "\n",
    "Multiplying both sides by $ A^{-1} $\n",
    "\n",
    "⇒ $ A.B.A^{-1} = 0.A^{-1} $\n",
    "\n",
    "⇒ $ B = 0 $\n",
    "\n",
    "⇒ $ det(B) = 0 $\n",
    "\n",
    "So if det(A) = -3 then det(B) should be equal to 0.\n",
    "\n"
   ]
  },
  {
   "cell_type": "markdown",
   "id": "0c76b304",
   "metadata": {},
   "source": [
    "\n"
   ]
  },
  {
   "cell_type": "markdown",
   "id": "ab1ec6a7",
   "metadata": {},
   "source": [
    "#### Part d:\n",
    "\n",
    "There is a vector v ≠ 0 such that BAV = 0\n",
    "\n",
    "AB = 0\n",
    "\n",
    "⇒ det(AB) = det(BA) = 0\n",
    "\n",
    "⇒ BA is not invertible (Since, a matrix is invertible only when it’s product with\n",
    "non-zero vector is 0).\n",
    "\n",
    "Hence, there is a vector v ≠ 0 such that BAv = 0"
   ]
  }
 ],
 "metadata": {
  "kernelspec": {
   "display_name": "Python 3",
   "language": "python",
   "name": "python3"
  },
  "language_info": {
   "codemirror_mode": {
    "name": "ipython",
    "version": 3
   },
   "file_extension": ".py",
   "mimetype": "text/x-python",
   "name": "python",
   "nbconvert_exporter": "python",
   "pygments_lexer": "ipython3",
   "version": "3.8.8"
  }
 },
 "nbformat": 4,
 "nbformat_minor": 5
}
