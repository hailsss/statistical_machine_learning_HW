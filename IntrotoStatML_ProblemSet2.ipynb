{
 "cells": [
  {
   "cell_type": "markdown",
   "id": "346add99",
   "metadata": {},
   "source": [
    "### Question 1:\n",
    "\n",
    "Suppose you're on a game show, and you're given the choice of three doors: Behind one\n",
    "door is a car; behind the others, goats. You pick a door, say No. 1, and the host, who\n",
    "knows what's behind the doors, opens another door, say No. 3, which has a goat. He then\n",
    "says to you, \"Do you want to pick door No. 2?\" Is it to your advantage to switch your\n",
    "choice? (Note: Please show your solution step-by-step by using what you know about\n",
    "marginal probability, conditional probability, joint probability, and the Bayes’ theorem)"
   ]
  },
  {
   "cell_type": "markdown",
   "id": "66e75629",
   "metadata": {},
   "source": [
    "\n"
   ]
  },
  {
   "cell_type": "markdown",
   "id": "b6d93b26",
   "metadata": {},
   "source": [
    "Let,\n",
    "\n",
    "A: event that the car is behind door no. 1\n",
    "\n",
    "B: event that the car is behind door no. 2\n",
    "\n",
    "C: event that the car is behind door no. 3\n",
    "\n",
    "The probability of the car being behind the door the contestant picks inititally (door no. 1) is 1/3.\n",
    "\n",
    "P(A) = 1/3\n",
    "\n",
    "This means that the car being behind the doors not chosen by the contestant (door no. 2 or door no. 3) is 2/3. \n",
    "\n",
    "P(B ∪ C) = 2/3\n",
    "\n",
    "Once the host opens one of the doors not chosen by the contestant (door no. 3) the probability of the car being behind the door of 2/3 shifts entirely to the door not chosen by the contestant and not opened by the host (door no. 2).\n",
    "\n",
    "P(B|C') = 2/3\n",
    "\n",
    "So, now the probability of the car being behind the door initially chosen by the contestant (door no. 1) is 1/3. The probability of the car not chosen by the contestant and not opened by the host is 2/3.\n",
    "\n",
    "P(A|C') = 1/3\n",
    "\n",
    "Hence, it would be to the contestant's adavantage to switch. "
   ]
  },
  {
   "cell_type": "markdown",
   "id": "7a2bc6ea",
   "metadata": {},
   "source": [
    "\n"
   ]
  },
  {
   "cell_type": "markdown",
   "id": "981d4abf",
   "metadata": {},
   "source": [
    "### Question 2:\n",
    "\n",
    "Suppose we have two NBA teams – for simplicity team A and team B – who have made\n",
    "it to NBA Playoffs. In each game between these two teams, team A has a winning\n",
    "probability of 0.55, and team B has a winning probability of 0.45. What is the probability\n",
    "that these two teams will play the $ 7^{th} $ game in NBA Playoffs? \n",
    "\n",
    "Notes: \n",
    "\n",
    "i. There cannot be a tie in any game.\n",
    "\n",
    "ii. Please check this link for more information about NBA Playoffs:\n",
    "https://en.wikipedia.org/wiki/NBA_playoffs and to think about possible combinations.\n",
    "\n",
    "iii. Also, please show your solution step-by-step by using what you know about marginal\n",
    "probability, conditional probability, joint probability, and the Bayes’ theorem."
   ]
  },
  {
   "cell_type": "markdown",
   "id": "c47b0f7d",
   "metadata": {},
   "source": [
    "\n"
   ]
  },
  {
   "cell_type": "markdown",
   "id": "b9fd4e24",
   "metadata": {},
   "source": [
    "The playoffs use a best-of-seven elimination format. This means two teams play each other up to seven times, with the team that wins four games progressing to the next round.\n",
    "\n",
    "That is, the team which is first to win 4 rounds against the other team progresses to the next round.\n",
    "\n",
    "Now, in order for 2 teams to play the 7th round against one another, they must win 3 games each in the first 6 games.\n",
    "\n",
    "Let P(A) be probability of team A winning a game against team B and P(B) be probability of team B winning A game against team A.\n",
    "\n",
    "P(A) = 0.55\n",
    "\n",
    "P(B) = 0.45\n",
    "\n",
    "If we think in terms of a binomial probability distribution, we can consider that for 6 trials, the probabiliity of success is probability of team A winning 3 times. This also means that team A also loses 3 times or team B wins 3 times. \n",
    "\n",
    "Probability that team A and B play the 7th game in the NBA playoffs = $ _{6}C_{3} . P(A)^{3} . P(B)^{6-3} $ = $ \\frac{6!}{3!(6-3)!} . (0.55)^{3}.(0.45)^{3}$ = $ 20 $ x $ 0.166375 $ x $ 0.091125 $ = $ 0.3032184375 $\n"
   ]
  },
  {
   "cell_type": "markdown",
   "id": "6ead011a",
   "metadata": {},
   "source": [
    "\n"
   ]
  },
  {
   "cell_type": "markdown",
   "id": "b46acb2c",
   "metadata": {},
   "source": [
    "### Question 3:\n",
    "\n",
    "From scratch (not using any pre-packaged tools for direct calculation), implement the\n",
    "gradient descent algorithm for linear regression and test your results on the California\n",
    "Housing Dataset:\n",
    "https://scikit-learn.org/stable/modules/generated/sklearn.datasets.fetch_california_housing.html#sklearn.datasets.fetch_california_housing\n",
    "\n",
    "Here is what you need to do step by step:\n",
    "\n",
    "a. Implement the gradient descent algorithm from scratch\n",
    "\n",
    "b. Choose the following features from the dataset as your X matrix: MedInc,\n",
    "HouseAge, AveRooms, AveBedrms, Population, AveOccup, Latitude, Longitude\n",
    "\n",
    "c. Choose the following feature from the dataset as your Y matrix: MedHouseVal\n",
    "\n",
    "d. Randomly split your data into training (70% of total) and test sets (30% of total)\n",
    "by using sklearn’s train_test_split function. Set random_state =\n",
    "265: https://scikit-learn.org/stable/modules/generated/sklearn.model_selection.train_test_split.html.\n",
    "\n",
    "e. Set the number_of_steps = 1000 and learning_rate = 0.01.\n",
    "\n",
    "f. By running your code, determine the best set of parameters (=weights) for the\n",
    "constant and your features listed in b). Your cost function will be $ R^2 $\n",
    "(=you should pick the set of parameters that give you the highest R^2).\n",
    "\n",
    "g. Report and interpret the results. What are the factors that explain the house\n",
    "prices the most?"
   ]
  },
  {
   "cell_type": "code",
   "execution_count": 44,
   "id": "293f745b",
   "metadata": {},
   "outputs": [],
   "source": [
    "from sklearn.preprocessing import StandardScaler\n",
    "import pandas as pd\n",
    "import numpy as np\n",
    "from sklearn.model_selection import train_test_split\n",
    "import matplotlib.pyplot as plt"
   ]
  },
  {
   "cell_type": "code",
   "execution_count": 45,
   "id": "8b29a404",
   "metadata": {
    "scrolled": false
   },
   "outputs": [],
   "source": [
    "from sklearn.datasets import fetch_california_housing\n",
    "df_calhousing = fetch_california_housing(as_frame=True)"
   ]
  },
  {
   "cell_type": "code",
   "execution_count": 46,
   "id": "b66ab9e0",
   "metadata": {},
   "outputs": [
    {
     "data": {
      "text/html": [
       "<div>\n",
       "<style scoped>\n",
       "    .dataframe tbody tr th:only-of-type {\n",
       "        vertical-align: middle;\n",
       "    }\n",
       "\n",
       "    .dataframe tbody tr th {\n",
       "        vertical-align: top;\n",
       "    }\n",
       "\n",
       "    .dataframe thead th {\n",
       "        text-align: right;\n",
       "    }\n",
       "</style>\n",
       "<table border=\"1\" class=\"dataframe\">\n",
       "  <thead>\n",
       "    <tr style=\"text-align: right;\">\n",
       "      <th></th>\n",
       "      <th>MedInc</th>\n",
       "      <th>HouseAge</th>\n",
       "      <th>AveRooms</th>\n",
       "      <th>AveBedrms</th>\n",
       "      <th>Population</th>\n",
       "      <th>AveOccup</th>\n",
       "      <th>Latitude</th>\n",
       "      <th>Longitude</th>\n",
       "      <th>MedHouseVal</th>\n",
       "    </tr>\n",
       "  </thead>\n",
       "  <tbody>\n",
       "    <tr>\n",
       "      <th>0</th>\n",
       "      <td>8.3252</td>\n",
       "      <td>41.0</td>\n",
       "      <td>6.984127</td>\n",
       "      <td>1.023810</td>\n",
       "      <td>322.0</td>\n",
       "      <td>2.555556</td>\n",
       "      <td>37.88</td>\n",
       "      <td>-122.23</td>\n",
       "      <td>4.526</td>\n",
       "    </tr>\n",
       "    <tr>\n",
       "      <th>1</th>\n",
       "      <td>8.3014</td>\n",
       "      <td>21.0</td>\n",
       "      <td>6.238137</td>\n",
       "      <td>0.971880</td>\n",
       "      <td>2401.0</td>\n",
       "      <td>2.109842</td>\n",
       "      <td>37.86</td>\n",
       "      <td>-122.22</td>\n",
       "      <td>3.585</td>\n",
       "    </tr>\n",
       "    <tr>\n",
       "      <th>2</th>\n",
       "      <td>7.2574</td>\n",
       "      <td>52.0</td>\n",
       "      <td>8.288136</td>\n",
       "      <td>1.073446</td>\n",
       "      <td>496.0</td>\n",
       "      <td>2.802260</td>\n",
       "      <td>37.85</td>\n",
       "      <td>-122.24</td>\n",
       "      <td>3.521</td>\n",
       "    </tr>\n",
       "    <tr>\n",
       "      <th>3</th>\n",
       "      <td>5.6431</td>\n",
       "      <td>52.0</td>\n",
       "      <td>5.817352</td>\n",
       "      <td>1.073059</td>\n",
       "      <td>558.0</td>\n",
       "      <td>2.547945</td>\n",
       "      <td>37.85</td>\n",
       "      <td>-122.25</td>\n",
       "      <td>3.413</td>\n",
       "    </tr>\n",
       "    <tr>\n",
       "      <th>4</th>\n",
       "      <td>3.8462</td>\n",
       "      <td>52.0</td>\n",
       "      <td>6.281853</td>\n",
       "      <td>1.081081</td>\n",
       "      <td>565.0</td>\n",
       "      <td>2.181467</td>\n",
       "      <td>37.85</td>\n",
       "      <td>-122.25</td>\n",
       "      <td>3.422</td>\n",
       "    </tr>\n",
       "    <tr>\n",
       "      <th>...</th>\n",
       "      <td>...</td>\n",
       "      <td>...</td>\n",
       "      <td>...</td>\n",
       "      <td>...</td>\n",
       "      <td>...</td>\n",
       "      <td>...</td>\n",
       "      <td>...</td>\n",
       "      <td>...</td>\n",
       "      <td>...</td>\n",
       "    </tr>\n",
       "    <tr>\n",
       "      <th>20635</th>\n",
       "      <td>1.5603</td>\n",
       "      <td>25.0</td>\n",
       "      <td>5.045455</td>\n",
       "      <td>1.133333</td>\n",
       "      <td>845.0</td>\n",
       "      <td>2.560606</td>\n",
       "      <td>39.48</td>\n",
       "      <td>-121.09</td>\n",
       "      <td>0.781</td>\n",
       "    </tr>\n",
       "    <tr>\n",
       "      <th>20636</th>\n",
       "      <td>2.5568</td>\n",
       "      <td>18.0</td>\n",
       "      <td>6.114035</td>\n",
       "      <td>1.315789</td>\n",
       "      <td>356.0</td>\n",
       "      <td>3.122807</td>\n",
       "      <td>39.49</td>\n",
       "      <td>-121.21</td>\n",
       "      <td>0.771</td>\n",
       "    </tr>\n",
       "    <tr>\n",
       "      <th>20637</th>\n",
       "      <td>1.7000</td>\n",
       "      <td>17.0</td>\n",
       "      <td>5.205543</td>\n",
       "      <td>1.120092</td>\n",
       "      <td>1007.0</td>\n",
       "      <td>2.325635</td>\n",
       "      <td>39.43</td>\n",
       "      <td>-121.22</td>\n",
       "      <td>0.923</td>\n",
       "    </tr>\n",
       "    <tr>\n",
       "      <th>20638</th>\n",
       "      <td>1.8672</td>\n",
       "      <td>18.0</td>\n",
       "      <td>5.329513</td>\n",
       "      <td>1.171920</td>\n",
       "      <td>741.0</td>\n",
       "      <td>2.123209</td>\n",
       "      <td>39.43</td>\n",
       "      <td>-121.32</td>\n",
       "      <td>0.847</td>\n",
       "    </tr>\n",
       "    <tr>\n",
       "      <th>20639</th>\n",
       "      <td>2.3886</td>\n",
       "      <td>16.0</td>\n",
       "      <td>5.254717</td>\n",
       "      <td>1.162264</td>\n",
       "      <td>1387.0</td>\n",
       "      <td>2.616981</td>\n",
       "      <td>39.37</td>\n",
       "      <td>-121.24</td>\n",
       "      <td>0.894</td>\n",
       "    </tr>\n",
       "  </tbody>\n",
       "</table>\n",
       "<p>20640 rows × 9 columns</p>\n",
       "</div>"
      ],
      "text/plain": [
       "       MedInc  HouseAge  AveRooms  AveBedrms  Population  AveOccup  Latitude  \\\n",
       "0      8.3252      41.0  6.984127   1.023810       322.0  2.555556     37.88   \n",
       "1      8.3014      21.0  6.238137   0.971880      2401.0  2.109842     37.86   \n",
       "2      7.2574      52.0  8.288136   1.073446       496.0  2.802260     37.85   \n",
       "3      5.6431      52.0  5.817352   1.073059       558.0  2.547945     37.85   \n",
       "4      3.8462      52.0  6.281853   1.081081       565.0  2.181467     37.85   \n",
       "...       ...       ...       ...        ...         ...       ...       ...   \n",
       "20635  1.5603      25.0  5.045455   1.133333       845.0  2.560606     39.48   \n",
       "20636  2.5568      18.0  6.114035   1.315789       356.0  3.122807     39.49   \n",
       "20637  1.7000      17.0  5.205543   1.120092      1007.0  2.325635     39.43   \n",
       "20638  1.8672      18.0  5.329513   1.171920       741.0  2.123209     39.43   \n",
       "20639  2.3886      16.0  5.254717   1.162264      1387.0  2.616981     39.37   \n",
       "\n",
       "       Longitude  MedHouseVal  \n",
       "0        -122.23        4.526  \n",
       "1        -122.22        3.585  \n",
       "2        -122.24        3.521  \n",
       "3        -122.25        3.413  \n",
       "4        -122.25        3.422  \n",
       "...          ...          ...  \n",
       "20635    -121.09        0.781  \n",
       "20636    -121.21        0.771  \n",
       "20637    -121.22        0.923  \n",
       "20638    -121.32        0.847  \n",
       "20639    -121.24        0.894  \n",
       "\n",
       "[20640 rows x 9 columns]"
      ]
     },
     "execution_count": 46,
     "metadata": {},
     "output_type": "execute_result"
    }
   ],
   "source": [
    "df_calhousing = df_calhousing.frame\n",
    "df_calhousing"
   ]
  },
  {
   "cell_type": "code",
   "execution_count": 47,
   "id": "8fcac730",
   "metadata": {
    "scrolled": true
   },
   "outputs": [],
   "source": [
    "X = df_calhousing.drop(['MedHouseVal'], axis=1)\n",
    "y = df_calhousing['MedHouseVal']\n"
   ]
  },
  {
   "cell_type": "code",
   "execution_count": 48,
   "id": "50277474",
   "metadata": {},
   "outputs": [],
   "source": [
    "sc = StandardScaler()\n",
    "X = sc.fit_transform(X)"
   ]
  },
  {
   "cell_type": "code",
   "execution_count": 49,
   "id": "f20d7dd7",
   "metadata": {},
   "outputs": [],
   "source": [
    "X_train, X_test, y_train, y_test = train_test_split(X, y, test_size = 0.3, random_state = 265)"
   ]
  },
  {
   "cell_type": "code",
   "execution_count": 50,
   "id": "01ac5427",
   "metadata": {},
   "outputs": [
    {
     "data": {
      "text/plain": [
       "array([[-3.98873933e-01,  1.06160074e+00, -2.81480844e-01, ...,\n",
       "        -4.87791326e-02,  1.25855037e+00, -1.45261790e+00],\n",
       "       [ 2.13882617e-01, -1.40159970e+00,  2.53190494e-01, ...,\n",
       "         1.98784220e-02,  6.12452908e-01, -1.64860651e-01],\n",
       "       [-1.11627442e+00,  1.45889113e+00, -5.77580582e-01, ...,\n",
       "        -1.05992513e-02,  9.96365895e-01, -1.31286130e+00],\n",
       "       ...,\n",
       "       [ 4.33224301e-01, -2.09728520e-01,  2.22349914e-02, ...,\n",
       "        -1.34502067e-03, -7.03151353e-01,  8.63348626e-01],\n",
       "       [ 1.43444776e+00, -9.24851228e-01,  6.17607758e-01, ...,\n",
       "         2.77994856e-02, -7.54651875e-01,  9.23244312e-01],\n",
       "       [ 1.42032029e-01, -1.87834817e+00,  2.13286690e-01, ...,\n",
       "        -2.98456989e-02, -1.12451927e+00,  1.14785313e+00]])"
      ]
     },
     "execution_count": 50,
     "metadata": {},
     "output_type": "execute_result"
    }
   ],
   "source": [
    "X_train"
   ]
  },
  {
   "cell_type": "markdown",
   "id": "9c653f8f",
   "metadata": {},
   "source": [
    "#### Cost function\n",
    "\n",
    "The cost function to be used is Mean Squared Error, which can be written as follows:\n",
    "\n",
    "$ J(\\theta) = \\frac{1}{m}\\sum_{i=1}^m{(h_{(\\theta)}(x^{(i)}) - y^{(i)})}^2 $"
   ]
  },
  {
   "cell_type": "code",
   "execution_count": 51,
   "id": "daa409ca",
   "metadata": {},
   "outputs": [],
   "source": [
    "def CostFunction(X,y,w,b):\n",
    "    cost = np.sum((((X.dot(w) + b) - y) ** 2) / (2*len(y)))\n",
    "    return cost"
   ]
  },
  {
   "cell_type": "markdown",
   "id": "0697af57",
   "metadata": {},
   "source": [
    "#### Hypothesis function\n",
    "\n",
    "For multivariate linear regression, the hypothesis function is as follows:\n",
    "\n",
    "$ h(x) = \\theta_0 + (\\theta_1 * x_1) + (\\theta_2 * x_2) + ... + \\theta_n * x_n $\n",
    "\n",
    "where $ x_1, x_2, ..., x_n $ are the input values.\n"
   ]
  },
  {
   "cell_type": "code",
   "execution_count": 52,
   "id": "f4e09b07",
   "metadata": {},
   "outputs": [],
   "source": [
    "def GradientDescent(X, y, w, b, learning_rate, epochs):\n",
    "    cost_list = [0] * epochs\n",
    "   \n",
    "    for epoch in range(epochs):\n",
    "        z = X.dot(w) + b\n",
    "        loss = z - y\n",
    "        \n",
    "        weight_gradient = X.T.dot(loss) / len(y)\n",
    "        bias_gradient = np.sum(loss) / len(y)\n",
    "        \n",
    "        w = w - learning_rate * weight_gradient\n",
    "        b = b - learning_rate * bias_gradient\n",
    "  \n",
    "        cost = CostFunction(X, y, w, b)\n",
    "        cost_list[epoch] = cost\n",
    "        \n",
    "        if (epoch%(epochs/10)==0):\n",
    "            print(\"Cost is:\",cost)\n",
    "        \n",
    "    return w, b, cost_list"
   ]
  },
  {
   "cell_type": "markdown",
   "id": "8df96de9",
   "metadata": {},
   "source": [
    "#### Calculating weights and bias"
   ]
  },
  {
   "cell_type": "code",
   "execution_count": 53,
   "id": "edaed4a7",
   "metadata": {
    "scrolled": true
   },
   "outputs": [
    {
     "name": "stdout",
     "output_type": "stream",
     "text": [
      "Cost is: 2.7535149392500613\n",
      "Cost is: 0.6431196305450871\n",
      "Cost is: 0.35374926936508805\n",
      "Cost is: 0.30850398965754944\n",
      "Cost is: 0.29718926538839896\n",
      "Cost is: 0.2912562446368607\n",
      "Cost is: 0.2866882433712475\n",
      "Cost is: 0.2828354526919\n",
      "Cost is: 0.27953029323936296\n",
      "Cost is: 0.2766855055921477\n"
     ]
    }
   ],
   "source": [
    "w, b, c = GradientDescent(X_train, y_train, np.zeros(X_train.shape[1]), 0, 0.01, epochs=1000)"
   ]
  },
  {
   "cell_type": "markdown",
   "id": "20b5362f",
   "metadata": {},
   "source": [
    "#### Plotting the cost"
   ]
  },
  {
   "cell_type": "code",
   "execution_count": 54,
   "id": "c6962a82",
   "metadata": {
    "scrolled": false
   },
   "outputs": [
    {
     "data": {
      "image/png": "[encoded data removed]",
      "text/plain": [
       "<Figure size 432x288 with 1 Axes>"
      ]
     },
     "metadata": {
      "needs_background": "light"
     },
     "output_type": "display_data"
    }
   ],
   "source": [
    "plt.plot(c)\n",
    "plt.show()"
   ]
  },
  {
   "cell_type": "markdown",
   "id": "11ca2c5e",
   "metadata": {},
   "source": [
    "#### Predicting labels with the calculated weights and biases"
   ]
  },
  {
   "cell_type": "code",
   "execution_count": 55,
   "id": "5123a85c",
   "metadata": {
    "scrolled": false
   },
   "outputs": [
    {
     "data": {
      "text/plain": [
       "array([2.19764111, 3.25465178, 1.2309983 , ..., 2.00309892, 3.17263369,\n",
       "       1.60138045])"
      ]
     },
     "execution_count": 55,
     "metadata": {},
     "output_type": "execute_result"
    }
   ],
   "source": [
    "def predict(X, w, b):\n",
    "    return X.dot(w) + b\n",
    "y_pred = predict(X_test, w, b)\n",
    "y_pred"
   ]
  },
  {
   "cell_type": "markdown",
   "id": "e44bfb98",
   "metadata": {},
   "source": [
    "#### Calculating the  accuracy of our model"
   ]
  },
  {
   "cell_type": "code",
   "execution_count": 56,
   "id": "68050de0",
   "metadata": {},
   "outputs": [
    {
     "data": {
      "text/plain": [
       "0.5718831993093252"
      ]
     },
     "execution_count": 56,
     "metadata": {},
     "output_type": "execute_result"
    }
   ],
   "source": [
    "def r2score(y_pred, y):\n",
    "    rss = np.sum((y_pred - y) ** 2)\n",
    "    tss = np.sum((y-y.mean()) ** 2)\n",
    "    \n",
    "    r2 = 1 - (rss / tss)\n",
    "    return r2\n",
    "r2score(y_pred, y_test)"
   ]
  },
  {
   "cell_type": "markdown",
   "id": "a3e7b1a6",
   "metadata": {},
   "source": [
    "Reference: https://faun.pub/implementing-multiple-linear-regression-from-scratch-in-python-f5d84d4935bb"
   ]
  },
  {
   "cell_type": "markdown",
   "id": "62153d35",
   "metadata": {},
   "source": [
    "\n"
   ]
  },
  {
   "cell_type": "markdown",
   "id": "6381a402",
   "metadata": {},
   "source": [
    "### Question 4:\n",
    "\n",
    "Now, try using a pre-packaged tool and comparing the results. Do the following:\n",
    "\n",
    "a. Use SGDRegressor provided by scikit:\n",
    "\n",
    "https://scikit-learn.org/stable/modules/generated/sklearn.linear_model.SGDRegressor.html\n",
    "\n",
    "b. Step b), c), and d) are the same as in Question 3.\n",
    "\n",
    "c. Set the max_iter = 1000, alpha = 0.01, random_state=265, loss=“squared_error”. Other parameters should be\n",
    "set to ‘default’.\n",
    "\n",
    "d. By running your code, determine the best set of parameters (=weights) for the\n",
    "constant and your features listed in b). Your cost function will be $ R^2 $.\n",
    "\n",
    "e. Report and interpret the results. What are the factors that explain the house\n",
    "prices the most? Are the results different from the previous question? If\n",
    "different, explain why the results might be different."
   ]
  },
  {
   "cell_type": "code",
   "execution_count": 57,
   "id": "bc5e8c1a",
   "metadata": {},
   "outputs": [],
   "source": [
    "from sklearn.linear_model import SGDRegressor\n",
    "from sklearn.metrics import mean_squared_error\n",
    "import seaborn as sns"
   ]
  },
  {
   "cell_type": "markdown",
   "id": "07cf7465",
   "metadata": {},
   "source": [
    "#### Importing, scaling and splitting the data"
   ]
  },
  {
   "cell_type": "code",
   "execution_count": 59,
   "id": "0a9a263e",
   "metadata": {},
   "outputs": [
    {
     "data": {
      "text/html": [
       "<div>\n",
       "<style scoped>\n",
       "    .dataframe tbody tr th:only-of-type {\n",
       "        vertical-align: middle;\n",
       "    }\n",
       "\n",
       "    .dataframe tbody tr th {\n",
       "        vertical-align: top;\n",
       "    }\n",
       "\n",
       "    .dataframe thead th {\n",
       "        text-align: right;\n",
       "    }\n",
       "</style>\n",
       "<table border=\"1\" class=\"dataframe\">\n",
       "  <thead>\n",
       "    <tr style=\"text-align: right;\">\n",
       "      <th></th>\n",
       "      <th>MedInc</th>\n",
       "      <th>HouseAge</th>\n",
       "      <th>AveRooms</th>\n",
       "      <th>AveBedrms</th>\n",
       "      <th>Population</th>\n",
       "      <th>AveOccup</th>\n",
       "      <th>Latitude</th>\n",
       "      <th>Longitude</th>\n",
       "      <th>MedHouseVal</th>\n",
       "    </tr>\n",
       "  </thead>\n",
       "  <tbody>\n",
       "    <tr>\n",
       "      <th>0</th>\n",
       "      <td>8.3252</td>\n",
       "      <td>41.0</td>\n",
       "      <td>6.984127</td>\n",
       "      <td>1.023810</td>\n",
       "      <td>322.0</td>\n",
       "      <td>2.555556</td>\n",
       "      <td>37.88</td>\n",
       "      <td>-122.23</td>\n",
       "      <td>4.526</td>\n",
       "    </tr>\n",
       "    <tr>\n",
       "      <th>1</th>\n",
       "      <td>8.3014</td>\n",
       "      <td>21.0</td>\n",
       "      <td>6.238137</td>\n",
       "      <td>0.971880</td>\n",
       "      <td>2401.0</td>\n",
       "      <td>2.109842</td>\n",
       "      <td>37.86</td>\n",
       "      <td>-122.22</td>\n",
       "      <td>3.585</td>\n",
       "    </tr>\n",
       "    <tr>\n",
       "      <th>2</th>\n",
       "      <td>7.2574</td>\n",
       "      <td>52.0</td>\n",
       "      <td>8.288136</td>\n",
       "      <td>1.073446</td>\n",
       "      <td>496.0</td>\n",
       "      <td>2.802260</td>\n",
       "      <td>37.85</td>\n",
       "      <td>-122.24</td>\n",
       "      <td>3.521</td>\n",
       "    </tr>\n",
       "    <tr>\n",
       "      <th>3</th>\n",
       "      <td>5.6431</td>\n",
       "      <td>52.0</td>\n",
       "      <td>5.817352</td>\n",
       "      <td>1.073059</td>\n",
       "      <td>558.0</td>\n",
       "      <td>2.547945</td>\n",
       "      <td>37.85</td>\n",
       "      <td>-122.25</td>\n",
       "      <td>3.413</td>\n",
       "    </tr>\n",
       "    <tr>\n",
       "      <th>4</th>\n",
       "      <td>3.8462</td>\n",
       "      <td>52.0</td>\n",
       "      <td>6.281853</td>\n",
       "      <td>1.081081</td>\n",
       "      <td>565.0</td>\n",
       "      <td>2.181467</td>\n",
       "      <td>37.85</td>\n",
       "      <td>-122.25</td>\n",
       "      <td>3.422</td>\n",
       "    </tr>\n",
       "    <tr>\n",
       "      <th>...</th>\n",
       "      <td>...</td>\n",
       "      <td>...</td>\n",
       "      <td>...</td>\n",
       "      <td>...</td>\n",
       "      <td>...</td>\n",
       "      <td>...</td>\n",
       "      <td>...</td>\n",
       "      <td>...</td>\n",
       "      <td>...</td>\n",
       "    </tr>\n",
       "    <tr>\n",
       "      <th>20635</th>\n",
       "      <td>1.5603</td>\n",
       "      <td>25.0</td>\n",
       "      <td>5.045455</td>\n",
       "      <td>1.133333</td>\n",
       "      <td>845.0</td>\n",
       "      <td>2.560606</td>\n",
       "      <td>39.48</td>\n",
       "      <td>-121.09</td>\n",
       "      <td>0.781</td>\n",
       "    </tr>\n",
       "    <tr>\n",
       "      <th>20636</th>\n",
       "      <td>2.5568</td>\n",
       "      <td>18.0</td>\n",
       "      <td>6.114035</td>\n",
       "      <td>1.315789</td>\n",
       "      <td>356.0</td>\n",
       "      <td>3.122807</td>\n",
       "      <td>39.49</td>\n",
       "      <td>-121.21</td>\n",
       "      <td>0.771</td>\n",
       "    </tr>\n",
       "    <tr>\n",
       "      <th>20637</th>\n",
       "      <td>1.7000</td>\n",
       "      <td>17.0</td>\n",
       "      <td>5.205543</td>\n",
       "      <td>1.120092</td>\n",
       "      <td>1007.0</td>\n",
       "      <td>2.325635</td>\n",
       "      <td>39.43</td>\n",
       "      <td>-121.22</td>\n",
       "      <td>0.923</td>\n",
       "    </tr>\n",
       "    <tr>\n",
       "      <th>20638</th>\n",
       "      <td>1.8672</td>\n",
       "      <td>18.0</td>\n",
       "      <td>5.329513</td>\n",
       "      <td>1.171920</td>\n",
       "      <td>741.0</td>\n",
       "      <td>2.123209</td>\n",
       "      <td>39.43</td>\n",
       "      <td>-121.32</td>\n",
       "      <td>0.847</td>\n",
       "    </tr>\n",
       "    <tr>\n",
       "      <th>20639</th>\n",
       "      <td>2.3886</td>\n",
       "      <td>16.0</td>\n",
       "      <td>5.254717</td>\n",
       "      <td>1.162264</td>\n",
       "      <td>1387.0</td>\n",
       "      <td>2.616981</td>\n",
       "      <td>39.37</td>\n",
       "      <td>-121.24</td>\n",
       "      <td>0.894</td>\n",
       "    </tr>\n",
       "  </tbody>\n",
       "</table>\n",
       "<p>20640 rows × 9 columns</p>\n",
       "</div>"
      ],
      "text/plain": [
       "       MedInc  HouseAge  AveRooms  AveBedrms  Population  AveOccup  Latitude  \\\n",
       "0      8.3252      41.0  6.984127   1.023810       322.0  2.555556     37.88   \n",
       "1      8.3014      21.0  6.238137   0.971880      2401.0  2.109842     37.86   \n",
       "2      7.2574      52.0  8.288136   1.073446       496.0  2.802260     37.85   \n",
       "3      5.6431      52.0  5.817352   1.073059       558.0  2.547945     37.85   \n",
       "4      3.8462      52.0  6.281853   1.081081       565.0  2.181467     37.85   \n",
       "...       ...       ...       ...        ...         ...       ...       ...   \n",
       "20635  1.5603      25.0  5.045455   1.133333       845.0  2.560606     39.48   \n",
       "20636  2.5568      18.0  6.114035   1.315789       356.0  3.122807     39.49   \n",
       "20637  1.7000      17.0  5.205543   1.120092      1007.0  2.325635     39.43   \n",
       "20638  1.8672      18.0  5.329513   1.171920       741.0  2.123209     39.43   \n",
       "20639  2.3886      16.0  5.254717   1.162264      1387.0  2.616981     39.37   \n",
       "\n",
       "       Longitude  MedHouseVal  \n",
       "0        -122.23        4.526  \n",
       "1        -122.22        3.585  \n",
       "2        -122.24        3.521  \n",
       "3        -122.25        3.413  \n",
       "4        -122.25        3.422  \n",
       "...          ...          ...  \n",
       "20635    -121.09        0.781  \n",
       "20636    -121.21        0.771  \n",
       "20637    -121.22        0.923  \n",
       "20638    -121.32        0.847  \n",
       "20639    -121.24        0.894  \n",
       "\n",
       "[20640 rows x 9 columns]"
      ]
     },
     "execution_count": 59,
     "metadata": {},
     "output_type": "execute_result"
    }
   ],
   "source": [
    "df_calhousing = fetch_california_housing(as_frame=True)\n",
    "df_calhousing = df_calhousing.frame\n",
    "df_calhousing"
   ]
  },
  {
   "cell_type": "code",
   "execution_count": 60,
   "id": "3a320ed4",
   "metadata": {},
   "outputs": [],
   "source": [
    "X = df_calhousing.drop(['MedHouseVal'], axis=1)\n",
    "y = df_calhousing['MedHouseVal']\n"
   ]
  },
  {
   "cell_type": "code",
   "execution_count": 61,
   "id": "bdc01f8d",
   "metadata": {},
   "outputs": [],
   "source": [
    "sc = StandardScaler()\n",
    "X = sc.fit_transform(X)"
   ]
  },
  {
   "cell_type": "code",
   "execution_count": 62,
   "id": "46a6cf21",
   "metadata": {},
   "outputs": [],
   "source": [
    "X_train, X_test, y_train, y_test = train_test_split(X, y, test_size = 0.3, random_state = 265)"
   ]
  },
  {
   "cell_type": "markdown",
   "id": "ffeb63cc",
   "metadata": {},
   "source": [
    "#### Building the Stochastic Gradient Descent Regressor model"
   ]
  },
  {
   "cell_type": "code",
   "execution_count": 63,
   "id": "bcf57a12",
   "metadata": {},
   "outputs": [
    {
     "name": "stdout",
     "output_type": "stream",
     "text": [
      "SGDRegressor(alpha=0.01, random_state=265)\n"
     ]
    }
   ],
   "source": [
    "sgdr = SGDRegressor(max_iter = 1000, alpha = 0.01, random_state=265, loss='squared_loss')\n",
    "print(sgdr)"
   ]
  },
  {
   "cell_type": "markdown",
   "id": "613f2964",
   "metadata": {},
   "source": [
    "#### Training the model"
   ]
  },
  {
   "cell_type": "code",
   "execution_count": 64,
   "id": "7436d69c",
   "metadata": {},
   "outputs": [
    {
     "name": "stdout",
     "output_type": "stream",
     "text": [
      "R-squared: -28756009.791211665\n"
     ]
    }
   ],
   "source": [
    "sgdr.fit(X_train, y_train)\n",
    "score = sgdr.score(X_train, y_train)\n",
    "print(\"R-squared:\", score)\n"
   ]
  },
  {
   "cell_type": "markdown",
   "id": "cafc42e3",
   "metadata": {},
   "source": [
    "#### Predicting using trained model"
   ]
  },
  {
   "cell_type": "code",
   "execution_count": 65,
   "id": "4a6a81c6",
   "metadata": {
    "scrolled": true
   },
   "outputs": [
    {
     "name": "stdout",
     "output_type": "stream",
     "text": [
      "MSE:  2532691.140612987\n"
     ]
    }
   ],
   "source": [
    "y_pred = sgdr.predict(X_test)\n",
    "mse = mean_squared_error(y_test, y_pred)\n",
    "print(\"MSE: \", mse)"
   ]
  },
  {
   "cell_type": "markdown",
   "id": "18bda74a",
   "metadata": {},
   "source": [
    "Reference: https://www.datatechnotes.com/2020/09/regression-example-with-sgdregressor-in-python.html"
   ]
  },
  {
   "cell_type": "markdown",
   "id": "c5f38101",
   "metadata": {},
   "source": [
    "#### Major factors influencing house prices"
   ]
  },
  {
   "cell_type": "code",
   "execution_count": 66,
   "id": "3efad05c",
   "metadata": {
    "scrolled": false
   },
   "outputs": [
    {
     "data": {
      "image/png": "[encoded data removed]",
      "text/plain": [
       "<Figure size 432x288 with 2 Axes>"
      ]
     },
     "metadata": {
      "needs_background": "light"
     },
     "output_type": "display_data"
    }
   ],
   "source": [
    "ax = sns.heatmap(df_calhousing.corr(), annot=True)"
   ]
  },
  {
   "cell_type": "code",
   "execution_count": 67,
   "id": "0701847e",
   "metadata": {},
   "outputs": [
    {
     "name": "stdout",
     "output_type": "stream",
     "text": [
      "[  126.90556887   -40.31562951  -328.46291691   241.04693854\n",
      "   -30.93057452 -5259.95942711   127.45391147   177.54366362]\n"
     ]
    }
   ],
   "source": [
    "print (sgdr.coef_)"
   ]
  },
  {
   "cell_type": "markdown",
   "id": "138424ed",
   "metadata": {},
   "source": [
    "The attributes influeincing house prices in California the most are, MedInc, HouseAge, Latitude and AveRooms."
   ]
  },
  {
   "cell_type": "markdown",
   "id": "da89a650",
   "metadata": {},
   "source": [
    "\n"
   ]
  },
  {
   "cell_type": "markdown",
   "id": "f3134e08",
   "metadata": {},
   "source": [
    "### Question 5:\n",
    "\n",
    "Finally, write a function from scratch that computes a variance-covariance matrix by\n",
    "transforming the following formula into code: \n",
    "\n",
    "Variance-covariance matrix: $ cov(X) =  E[(X − E[X])(X − E[X])^T] $\n",
    "\n",
    "Your function/code should work for matrices of any size. Test that your function is running\n",
    "(=successfully computing the variances and covariances of the variables and variable pairs\n",
    "in the dataset) by using the California Housing Dataset that you have used in previous\n",
    "questions."
   ]
  },
  {
   "cell_type": "markdown",
   "id": "8045d0e8",
   "metadata": {},
   "source": [
    "\n"
   ]
  },
  {
   "cell_type": "code",
   "execution_count": 68,
   "id": "4a517573",
   "metadata": {
    "scrolled": true
   },
   "outputs": [],
   "source": [
    "def cov_calculator(df):\n",
    "    X = np.asmatrix(df)\n",
    "    E_X = df.mean()\n",
    "    X_minus_E_X = pd.DataFrame()\n",
    "    for i in range(0, len(df.columns)):\n",
    "        X_minus_E_X[i] = (df.iloc[:,i] - df.mean()[i])  \n",
    "    X_minus_E_X = np.asmatrix(X_minus_E_X)\n",
    "    X_minus_E_X_trans = np.transpose(X_minus_E_X)\n",
    "    print(np.dot(X_minus_E_X_trans,X_minus_E_X)/(len(df)-1))"
   ]
  },
  {
   "cell_type": "code",
   "execution_count": 75,
   "id": "da29a7e1",
   "metadata": {
    "scrolled": true
   },
   "outputs": [
    {
     "name": "stdout",
     "output_type": "stream",
     "text": [
      "[[ 3.60932256e+00 -2.84614028e+00  1.53656801e+00 -5.58575949e-02\n",
      "   1.04009792e+01  3.70288896e-01 -3.23859753e-01 -5.77647021e-02\n",
      "   1.50847483e+00]\n",
      " [-2.84614028e+00  1.58396260e+02 -4.77288245e+00 -4.63718412e-01\n",
      "  -4.22227058e+03  1.72429796e+00  3.00345508e-01 -2.72824366e+00\n",
      "   1.53398801e+00]\n",
      " [ 1.53656801e+00 -4.77288245e+00  6.12153272e+00  9.93867801e-01\n",
      "  -2.02333712e+02 -1.24688866e-01  5.62235473e-01 -1.36518371e-01\n",
      "   4.33825637e-01]\n",
      " [-5.58575949e-02 -4.63718412e-01  9.93867801e-01  2.24591500e-01\n",
      "  -3.55272253e+01 -3.04242537e-02  7.05752856e-02  1.26704371e-02\n",
      "  -2.55392194e-02]\n",
      " [ 1.04009792e+01 -4.22227058e+03 -2.02333712e+02 -3.55272253e+01\n",
      "   1.28247046e+06  8.21712002e+02 -2.63137814e+02  2.26377839e+02\n",
      "  -3.22124873e+01]\n",
      " [ 3.70288896e-01  1.72429796e+00 -1.24688866e-01 -3.04242537e-02\n",
      "   8.21712002e+02  1.07870026e+02  5.24916416e-02  5.15187178e-02\n",
      "  -2.84493983e-01]\n",
      " [-3.23859753e-01  3.00345508e-01  5.62235473e-01  7.05752856e-02\n",
      "  -2.63137814e+02  5.24916416e-02  4.56229264e+00 -3.95705372e+00\n",
      "  -3.55325591e-01]\n",
      " [-5.77647021e-02 -2.72824366e+00 -1.36518371e-01  1.26704371e-02\n",
      "   2.26377839e+02  5.15187178e-02 -3.95705372e+00  4.01413937e+00\n",
      "  -1.06274252e-01]\n",
      " [ 1.50847483e+00  1.53398801e+00  4.33825637e-01 -2.55392194e-02\n",
      "  -3.22124873e+01 -2.84493983e-01 -3.55325591e-01 -1.06274252e-01\n",
      "   1.33161482e+00]]\n"
     ]
    }
   ],
   "source": [
    "cov_calculator(df_calhousing)"
   ]
  },
  {
   "cell_type": "code",
   "execution_count": 70,
   "id": "0da10057",
   "metadata": {},
   "outputs": [
    {
     "data": {
      "text/html": [
       "<div>\n",
       "<style scoped>\n",
       "    .dataframe tbody tr th:only-of-type {\n",
       "        vertical-align: middle;\n",
       "    }\n",
       "\n",
       "    .dataframe tbody tr th {\n",
       "        vertical-align: top;\n",
       "    }\n",
       "\n",
       "    .dataframe thead th {\n",
       "        text-align: right;\n",
       "    }\n",
       "</style>\n",
       "<table border=\"1\" class=\"dataframe\">\n",
       "  <thead>\n",
       "    <tr style=\"text-align: right;\">\n",
       "      <th></th>\n",
       "      <th>MedInc</th>\n",
       "      <th>HouseAge</th>\n",
       "      <th>AveRooms</th>\n",
       "      <th>AveBedrms</th>\n",
       "      <th>Population</th>\n",
       "      <th>AveOccup</th>\n",
       "      <th>Latitude</th>\n",
       "      <th>Longitude</th>\n",
       "      <th>MedHouseVal</th>\n",
       "    </tr>\n",
       "  </thead>\n",
       "  <tbody>\n",
       "    <tr>\n",
       "      <th>MedInc</th>\n",
       "      <td>3.609323</td>\n",
       "      <td>-2.846140</td>\n",
       "      <td>1.536568</td>\n",
       "      <td>-0.055858</td>\n",
       "      <td>1.040098e+01</td>\n",
       "      <td>0.370289</td>\n",
       "      <td>-0.323860</td>\n",
       "      <td>-0.057765</td>\n",
       "      <td>1.508475</td>\n",
       "    </tr>\n",
       "    <tr>\n",
       "      <th>HouseAge</th>\n",
       "      <td>-2.846140</td>\n",
       "      <td>158.396260</td>\n",
       "      <td>-4.772882</td>\n",
       "      <td>-0.463718</td>\n",
       "      <td>-4.222271e+03</td>\n",
       "      <td>1.724298</td>\n",
       "      <td>0.300346</td>\n",
       "      <td>-2.728244</td>\n",
       "      <td>1.533988</td>\n",
       "    </tr>\n",
       "    <tr>\n",
       "      <th>AveRooms</th>\n",
       "      <td>1.536568</td>\n",
       "      <td>-4.772882</td>\n",
       "      <td>6.121533</td>\n",
       "      <td>0.993868</td>\n",
       "      <td>-2.023337e+02</td>\n",
       "      <td>-0.124689</td>\n",
       "      <td>0.562235</td>\n",
       "      <td>-0.136518</td>\n",
       "      <td>0.433826</td>\n",
       "    </tr>\n",
       "    <tr>\n",
       "      <th>AveBedrms</th>\n",
       "      <td>-0.055858</td>\n",
       "      <td>-0.463718</td>\n",
       "      <td>0.993868</td>\n",
       "      <td>0.224592</td>\n",
       "      <td>-3.552723e+01</td>\n",
       "      <td>-0.030424</td>\n",
       "      <td>0.070575</td>\n",
       "      <td>0.012670</td>\n",
       "      <td>-0.025539</td>\n",
       "    </tr>\n",
       "    <tr>\n",
       "      <th>Population</th>\n",
       "      <td>10.400979</td>\n",
       "      <td>-4222.270582</td>\n",
       "      <td>-202.333712</td>\n",
       "      <td>-35.527225</td>\n",
       "      <td>1.282470e+06</td>\n",
       "      <td>821.712002</td>\n",
       "      <td>-263.137814</td>\n",
       "      <td>226.377839</td>\n",
       "      <td>-32.212487</td>\n",
       "    </tr>\n",
       "    <tr>\n",
       "      <th>AveOccup</th>\n",
       "      <td>0.370289</td>\n",
       "      <td>1.724298</td>\n",
       "      <td>-0.124689</td>\n",
       "      <td>-0.030424</td>\n",
       "      <td>8.217120e+02</td>\n",
       "      <td>107.870026</td>\n",
       "      <td>0.052492</td>\n",
       "      <td>0.051519</td>\n",
       "      <td>-0.284494</td>\n",
       "    </tr>\n",
       "    <tr>\n",
       "      <th>Latitude</th>\n",
       "      <td>-0.323860</td>\n",
       "      <td>0.300346</td>\n",
       "      <td>0.562235</td>\n",
       "      <td>0.070575</td>\n",
       "      <td>-2.631378e+02</td>\n",
       "      <td>0.052492</td>\n",
       "      <td>4.562293</td>\n",
       "      <td>-3.957054</td>\n",
       "      <td>-0.355326</td>\n",
       "    </tr>\n",
       "    <tr>\n",
       "      <th>Longitude</th>\n",
       "      <td>-0.057765</td>\n",
       "      <td>-2.728244</td>\n",
       "      <td>-0.136518</td>\n",
       "      <td>0.012670</td>\n",
       "      <td>2.263778e+02</td>\n",
       "      <td>0.051519</td>\n",
       "      <td>-3.957054</td>\n",
       "      <td>4.014139</td>\n",
       "      <td>-0.106274</td>\n",
       "    </tr>\n",
       "    <tr>\n",
       "      <th>MedHouseVal</th>\n",
       "      <td>1.508475</td>\n",
       "      <td>1.533988</td>\n",
       "      <td>0.433826</td>\n",
       "      <td>-0.025539</td>\n",
       "      <td>-3.221249e+01</td>\n",
       "      <td>-0.284494</td>\n",
       "      <td>-0.355326</td>\n",
       "      <td>-0.106274</td>\n",
       "      <td>1.331615</td>\n",
       "    </tr>\n",
       "  </tbody>\n",
       "</table>\n",
       "</div>"
      ],
      "text/plain": [
       "                MedInc     HouseAge    AveRooms  AveBedrms    Population  \\\n",
       "MedInc        3.609323    -2.846140    1.536568  -0.055858  1.040098e+01   \n",
       "HouseAge     -2.846140   158.396260   -4.772882  -0.463718 -4.222271e+03   \n",
       "AveRooms      1.536568    -4.772882    6.121533   0.993868 -2.023337e+02   \n",
       "AveBedrms    -0.055858    -0.463718    0.993868   0.224592 -3.552723e+01   \n",
       "Population   10.400979 -4222.270582 -202.333712 -35.527225  1.282470e+06   \n",
       "AveOccup      0.370289     1.724298   -0.124689  -0.030424  8.217120e+02   \n",
       "Latitude     -0.323860     0.300346    0.562235   0.070575 -2.631378e+02   \n",
       "Longitude    -0.057765    -2.728244   -0.136518   0.012670  2.263778e+02   \n",
       "MedHouseVal   1.508475     1.533988    0.433826  -0.025539 -3.221249e+01   \n",
       "\n",
       "               AveOccup    Latitude   Longitude  MedHouseVal  \n",
       "MedInc         0.370289   -0.323860   -0.057765     1.508475  \n",
       "HouseAge       1.724298    0.300346   -2.728244     1.533988  \n",
       "AveRooms      -0.124689    0.562235   -0.136518     0.433826  \n",
       "AveBedrms     -0.030424    0.070575    0.012670    -0.025539  \n",
       "Population   821.712002 -263.137814  226.377839   -32.212487  \n",
       "AveOccup     107.870026    0.052492    0.051519    -0.284494  \n",
       "Latitude       0.052492    4.562293   -3.957054    -0.355326  \n",
       "Longitude      0.051519   -3.957054    4.014139    -0.106274  \n",
       "MedHouseVal   -0.284494   -0.355326   -0.106274     1.331615  "
      ]
     },
     "execution_count": 70,
     "metadata": {},
     "output_type": "execute_result"
    }
   ],
   "source": [
    "df_calhousing.cov()"
   ]
  },
  {
   "cell_type": "code",
   "execution_count": null,
   "id": "f9cd47da",
   "metadata": {},
   "outputs": [],
   "source": []
  }
 ],
 "metadata": {
  "kernelspec": {
   "display_name": "Python 3",
   "language": "python",
   "name": "python3"
  },
  "language_info": {
   "codemirror_mode": {
    "name": "ipython",
    "version": 3
   },
   "file_extension": ".py",
   "mimetype": "text/x-python",
   "name": "python",
   "nbconvert_exporter": "python",
   "pygments_lexer": "ipython3",
   "version": "3.8.8"
  }
 },
 "nbformat": 4,
 "nbformat_minor": 5
}
